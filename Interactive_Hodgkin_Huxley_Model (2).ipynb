{
  "nbformat": 4,
  "nbformat_minor": 0,
  "metadata": {
    "colab": {
      "name": "Interactive Hodgkin Huxley Model",
      "provenance": [],
      "collapsed_sections": []
    },
    "kernelspec": {
      "name": "python3",
      "display_name": "Python 3"
    },
    "language_info": {
      "name": "python"
    }
  },
  "cells": [
    {
      "cell_type": "markdown",
      "metadata": {
        "id": "imzeOQK9iR0t"
      },
      "source": [
        "#Import necessary libraries"
      ]
    },
    {
      "cell_type": "code",
      "metadata": {
        "id": "bD7ztEJNdbUR"
      },
      "source": [
        "import numpy as np\n",
        "import matplotlib.pyplot as plt\n",
        "import warnings\n",
        "import ipywidgets as widgets"
      ],
      "execution_count": null,
      "outputs": []
    },
    {
      "cell_type": "markdown",
      "metadata": {
        "id": "SoJAnMmoiZmO"
      },
      "source": [
        "#Configure the sliders"
      ]
    },
    {
      "cell_type": "code",
      "metadata": {
        "id": "RHaUSpagdcJF"
      },
      "source": [
        "style = {'description_width': 'initial'}\n",
        "\n",
        "ENa_widget = widgets.FloatSlider(min=0, max=200, step=0.5, value=115, description=\"ENa\")\n",
        "EK_widget = widgets.FloatSlider(min=-30, max=0, step=0.5, value=-12, description=\"EK\")\n",
        "EKleak_widget = widgets.FloatSlider(min=0, max=20, step=0.5, value=10.6, description=\"EKleak\")\n",
        "\n",
        "gNa_widget = widgets.FloatSlider(min=0, max=200, step=0.5, value=120, description=\"gNa\")\n",
        "gK_widget = widgets.FloatSlider(min=0, max=50, step=0.5, value=36, description=\"gK\")\n",
        "gKleak_widget = widgets.FloatSlider(min=0, max=5, step=0.01, value=0.3, description=\"gKleak\")\n",
        "\n",
        "stepNum_widget = widgets.IntSlider(min=0, max=50000, step=1000, value=20000, description=\"Step Number\")\n",
        "stepSize_widget = widgets.FloatSlider(min=0, max=0.1, step=0.005, value=0.01, description=\"Step Size\")\n",
        "\n",
        "stimStart_widget = widgets.IntSlider(min=0, max=50000, step=1000, value=7000, description=\"Stimulus Start\", style=style)\n",
        "stimEnd_widget = widgets.IntSlider(min=0, max=50000, step=1000, value=13000, description=\"Stimulus End\", style =style)\n",
        "stimIntensity_widget = widgets.IntSlider(min=0, max=100, step=1, value=50, description=\"Stimulus Intensity\", style =style)\n",
        "\n",
        "control = widgets.VBox([ENa_widget, EK_widget, EKleak_widget, gNa_widget, gK_widget, gKleak_widget, stepNum_widget, stepSize_widget, stimStart_widget, stimEnd_widget, stimIntensity_widget])"
      ],
      "execution_count": null,
      "outputs": []
    },
    {
      "cell_type": "markdown",
      "metadata": {
        "id": "6WU3A4ZhifBM"
      },
      "source": [
        "#Define the Hodgkin-Huxley Model"
      ]
    },
    {
      "cell_type": "code",
      "metadata": {
        "id": "Ju8dDCwwdfwj"
      },
      "source": [
        "class HHModel:\n",
        "\n",
        "    class Gate:\n",
        "        alpha, beta, state = 0, 0, 0\n",
        " \n",
        "        def update(self, deltaTms):\n",
        "            alphaState = self.alpha * (1-self.state)\n",
        "            betaState = self.beta * self.state\n",
        "            self.state += deltaTms * (alphaState - betaState)\n",
        " \n",
        "        def setInfiniteState(self):\n",
        "            self.state = self.alpha / (self.alpha + self.beta)\n",
        " \n",
        "    m, n, h = Gate(), Gate(), Gate()\n",
        "    Cm = 1\n",
        " \n",
        "    def __init__(self, ENa, EK, EKleak, gNa, gK, gKleak, startingVoltage=0):\n",
        "        self.ENa = ENa\n",
        "        self.EK  = EK\n",
        "        self.EKleak = EKleak\n",
        "        self.gNa = gNa\n",
        "        self.gK = gK\n",
        "        self.gKleak =  gKleak\n",
        "        self.Vm = startingVoltage\n",
        "        self.UpdateGateTimeConstants(startingVoltage)\n",
        "        self.m.setInfiniteState()\n",
        "        self.n.setInfiniteState()\n",
        "        self.h.setInfiniteState()\n",
        "\n",
        "    def UpdateGateTimeConstants(self, Vm):\n",
        "        self.n.alpha = .01 * ((10-Vm) / (np.exp((10-Vm)/10)-1))\n",
        "        self.n.beta = .125*np.exp(-Vm/80)\n",
        "        self.m.alpha = .1*((25-Vm) / (np.exp((25-Vm)/10)-1))\n",
        "        self.m.beta = 4*np.exp(-Vm/18)\n",
        "        self.h.alpha = .07*np.exp(-Vm/20)\n",
        "        self.h.beta = 1/(np.exp((30-Vm)/10)+1)\n",
        "\n",
        "    def UpdateCellVoltage(self, stimulusCurrent, deltaTms):\n",
        "        self.INa = np.power(self.m.state, 3) * self.gNa * \\\n",
        "            self.h.state*(self.Vm-self.ENa)\n",
        "        self.IK = np.power(self.n.state, 4) * self.gK * (self.Vm-self.EK)\n",
        "        self.IKleak = self.gKleak * (self.Vm-self.EKleak)\n",
        "        Isum = stimulusCurrent - self.INa - self.IK - self.IKleak\n",
        "        self.Vm += deltaTms * Isum / self.Cm\n",
        "\n",
        "    def UpdateGateStates(self, deltaTms):\n",
        "        self.n.update(deltaTms)\n",
        "        self.m.update(deltaTms)\n",
        "        self.h.update(deltaTms)\n",
        " \n",
        "    def Iterate(self, stimulusCurrent=0, deltaTms=0.05):\n",
        "        self.UpdateGateTimeConstants(self.Vm)\n",
        "        self.UpdateCellVoltage(stimulusCurrent, deltaTms)\n",
        "        self.UpdateGateStates(deltaTms)"
      ],
      "execution_count": null,
      "outputs": []
    },
    {
      "cell_type": "markdown",
      "metadata": {
        "id": "GE3_5d1rik_X"
      },
      "source": [
        "#Define the Simulation Class"
      ]
    },
    {
      "cell_type": "code",
      "metadata": {
        "id": "PmlcHq_rdiLM"
      },
      "source": [
        "class Simulation:\n",
        "\n",
        "    def __init__(self, model):\n",
        "        self.model = model\n",
        "        self.CreateArrays(0, 0)\n",
        "        pass\n",
        "\n",
        "    def CreateArrays(self, pointCount, deltaTms):\n",
        "        self.times = np.arange(pointCount) * deltaTms\n",
        "        self.Vm = np.empty(pointCount)\n",
        "        self.INa = np.empty(pointCount)\n",
        "        self.IK = np.empty(pointCount)\n",
        "        self.IKleak = np.empty(pointCount)\n",
        "        self.StateN = np.empty(pointCount)\n",
        "        self.StateM = np.empty(pointCount)\n",
        "        self.StateH = np.empty(pointCount)\n",
        "\n",
        "    def Run(self, stimulusWaveform, stepSizeMs):\n",
        "        if (stepSizeMs > 0.05):\n",
        "            warnings.warn(\"step sizes < 0.05 ms are recommended\")\n",
        "        assert isinstance(stimulusWaveform, np.ndarray)\n",
        "        self.CreateArrays(len(stimulusWaveform), stepSizeMs)\n",
        "        print(f\"-----\\nsimulating {len(stimulusWaveform)} time points...\")\n",
        "        for i in range(len(stimulusWaveform)):\n",
        "            self.model.Iterate(stimulusWaveform[i], stepSizeMs)\n",
        "            self.Vm[i] = self.model.Vm\n",
        "            self.INa[i] = self.model.INa\n",
        "            self.IK[i] = self.model.IK\n",
        "            self.IKleak[i] = self.model.IKleak\n",
        "            self.StateH[i] = self.model.h.state\n",
        "            self.StateM[i] = self.model.m.state\n",
        "            self.StateN[i] = self.model.n.state\n",
        "        print(\"simulation complete\\n-----\")"
      ],
      "execution_count": null,
      "outputs": []
    },
    {
      "cell_type": "markdown",
      "metadata": {
        "id": "0IdNa9SWitti"
      },
      "source": [
        "#Define the Plotting Function"
      ]
    },
    {
      "cell_type": "code",
      "metadata": {
        "id": "xOW3dP8IP7Vy"
      },
      "source": [
        "def HHplot(ENa, EK, EKleak, gNa, gK, gKleak, stepNum, stepSize, stimStart, stimEnd, stimIntensity):\n",
        "    model = HHModel(ENa, EK, EKleak, gNa, gK, gKleak)\n",
        "\n",
        "    stim = np.zeros(int(stepNum))\n",
        "    stim[stimStart:stimEnd] = stimIntensity\n",
        "\n",
        "    sim = Simulation(model)\n",
        "    sim.Run(stimulusWaveform=stim, stepSizeMs=stepSize)\n",
        "    plt.figure(figsize=(10, 8))\n",
        "\n",
        "    ax1 = plt.subplot(411)\n",
        "    ax1.plot(sim.times, sim.Vm - 70, color='b')\n",
        "    ax1.set_ylabel(\"Potential (mV)\")\n",
        "    ax1.set_title(\"Hodgkin-Huxley Spiking Neuron Model\", fontSize=16)\n",
        "\n",
        "    ax2 = plt.subplot(412)\n",
        "    ax2.plot(sim.times, stim, color='r')\n",
        "    ax2.set_ylabel(\"Stimulation (µA/cm²)\")\n",
        "\n",
        "    ax3 = plt.subplot(413, sharex=ax1)\n",
        "    ax3.plot(sim.times, sim.StateH, label='h')\n",
        "    ax3.plot(sim.times, sim.StateM, label='m')\n",
        "    ax3.plot(sim.times, sim.StateN, label='n')\n",
        "    ax3.set_ylabel(\"Activation (frac)\")\n",
        "    ax3.legend()\n",
        "\n",
        "    ax4 = plt.subplot(414, sharex=ax1)\n",
        "    ax4.plot(sim.times, sim.INa, label='VGSC')\n",
        "    ax4.plot(sim.times, sim.IK, label='VGKC')\n",
        "    ax4.plot(sim.times, sim.IKleak, label='KLeak')\n",
        "    ax4.set_ylabel(\"Current (µA/cm²)\")\n",
        "    ax4.set_xlabel(\"Simulation Time (milliseconds)\")\n",
        "    ax4.legend()\n",
        "\n",
        "    plt.tight_layout()\n",
        "    plt.show()"
      ],
      "execution_count": null,
      "outputs": []
    },
    {
      "cell_type": "markdown",
      "metadata": {
        "id": "dJtTpt40ixXJ"
      },
      "source": [
        "#Plot with the Default Values\n",
        "- You can configure the values of ENa, EK and ELeak and gNa, gK and gLeak\n",
        "- The step number and size can be changed\n",
        "- The simulation runs for a length of (Step Number * Step Size) where step size is calculated in miliseconds\n",
        "- For the experiment an external stimulus is being given, you can configure the starting step, ending step and intensity of the stimulus\n",
        "- To figure out the starting step, simply divide the starting time you want by the chosen step size"
      ]
    },
    {
      "cell_type": "code",
      "metadata": {
        "id": "5t81ohpedn-M"
      },
      "source": [
        "plot = widgets.interactive_output(HHplot, {'ENa':ENa_widget, 'EK':EK_widget, 'EKleak':EKleak_widget, 'gNa':gNa_widget, 'gK':gK_widget, 'gKleak':gKleak_widget, 'stepNum':stepNum_widget, 'stepSize':stepSize_widget, 'stimStart':stimStart_widget, \"stimEnd\":stimEnd_widget, \"stimIntensity\":stimIntensity_widget})\n",
        "display(control, plot)"
      ],
      "execution_count": null,
      "outputs": []
    }
  ]
}