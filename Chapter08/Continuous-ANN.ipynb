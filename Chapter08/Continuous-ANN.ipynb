{
  "nbformat": 4,
  "nbformat_minor": 0,
  "metadata": {
    "colab": {
      "name": "RNN_ODE.ipynb",
      "provenance": [],
      "collapsed_sections": []
    },
    "kernelspec": {
      "name": "python3",
      "display_name": "Python 3"
    },
    "language_info": {
      "name": "python"
    }
  },
  "cells": [
    {
      "cell_type": "code",
      "metadata": {
        "id": "L1lRmmm_iT3o"
      },
      "source": [
        "%matplotlib inline\n",
        "import numpy as np\n",
        "import matplotlib.pyplot as plt\n",
        "from scipy.integrate import solve_ivp"
      ],
      "execution_count": 196,
      "outputs": []
    },
    {
      "cell_type": "markdown",
      "metadata": {
        "id": "wuoqo7vIik1A"
      },
      "source": [
        "# Continuous Time ANN"
      ]
    },
    {
      "cell_type": "markdown",
      "metadata": {
        "id": "zFJoDctKii4E"
      },
      "source": [
        "A. Define the Variables"
      ]
    },
    {
      "cell_type": "code",
      "metadata": {
        "id": "BPnYg68ijB6o"
      },
      "source": [
        "nn=500\n",
        "dx=1/nn\n",
        "C=0"
      ],
      "execution_count": 197,
      "outputs": []
    },
    {
      "cell_type": "markdown",
      "metadata": {
        "id": "2TqBVIa9iptK"
      },
      "source": [
        "B. Train the Weight Matrix"
      ]
    },
    {
      "cell_type": "code",
      "metadata": {
        "id": "1eFzwprZjLL8"
      },
      "source": [
        "pat=np.floor(2*np.random.rand(nn,10))-0.5\n",
        "w=np.matmul(pat,np.transpose(pat))\n",
        "w=w/w[1,1]\n",
        "w=100*(w-C)"
      ],
      "execution_count": 198,
      "outputs": []
    },
    {
      "cell_type": "markdown",
      "metadata": {
        "id": "L8LdljPDitCM"
      },
      "source": [
        "C. Define RNN ODE"
      ]
    },
    {
      "cell_type": "code",
      "metadata": {
        "id": "hm9qe313jl5W"
      },
      "source": [
        "def rnn_ode(t,u,flag,nn,dx,w,I_ext):\n",
        "  #inverse of membrane time constant\n",
        "  tau_inv=1\n",
        "  r=1/(1+np.exp(-u))\n",
        "  sum=np.matmul(w,r)*dx\n",
        "  udot=tau_inv*(-u+sum+I_ext)\n",
        "  return udot"
      ],
      "execution_count": 199,
      "outputs": []
    },
    {
      "cell_type": "markdown",
      "metadata": {
        "id": "ZdlC6R6xiwJd"
      },
      "source": [
        "D. Update with Localised Input"
      ]
    },
    {
      "cell_type": "code",
      "metadata": {
        "id": "QhXHOcp9kIxg"
      },
      "source": [
        "I_ext = pat[:,1]+0.5\n",
        "I_ext[0:10] = 1-I_ext[0:10]\n",
        "sol = solve_ivp(fun=rnn_ode,t_span=[0, 10], y0=np.zeros(nn), args=([], nn, dx, w, I_ext))\n",
        "t1=sol.t\n",
        "u1=np.transpose(sol.y)\n",
        "r1=u1>0"
      ],
      "execution_count": 200,
      "outputs": []
    },
    {
      "cell_type": "markdown",
      "metadata": {
        "id": "juM2aMfhi6TG"
      },
      "source": [
        "E. Update without Input"
      ]
    },
    {
      "cell_type": "code",
      "metadata": {
        "id": "SCckkukDtzRM"
      },
      "source": [
        "I_ext=np.zeros(nn)\n",
        "sol = solve_ivp(fun=rnn_ode,t_span=[10,20], y0=u1[u1.shape[0]-1,:], args=([], nn, dx, w, I_ext))\n",
        "t2=sol.t\n",
        "u2=sol.y\n",
        "r2=np.transpose(u2)>0\n",
        "t=np.concatenate((t1,t2))\n",
        "r=np.concatenate((r1,r2))"
      ],
      "execution_count": 201,
      "outputs": []
    },
    {
      "cell_type": "markdown",
      "metadata": {
        "id": "KcESVg02i-Pw"
      },
      "source": [
        "F. Plot the Results"
      ]
    },
    {
      "cell_type": "code",
      "metadata": {
        "colab": {
          "base_uri": "https://localhost:8080/",
          "height": 295
        },
        "id": "owwCwPYYvX4j",
        "outputId": "1026f445-8291-40ce-eba8-41a06b6f7996"
      },
      "source": [
        "plt.plot(t,4*np.matmul((r-0.5),pat/nn))\n",
        "plt.title(\"Continuous time ANN model\")\n",
        "plt.xlabel(\"Time\")\n",
        "plt.ylabel(\"Overlap\")\n",
        "plt.show()"
      ],
      "execution_count": 202,
      "outputs": [
        {
          "output_type": "display_data",
          "data": {
            "image/png": "[encoded data removed]",
            "text/plain": [
              "<Figure size 432x288 with 1 Axes>"
            ]
          },
          "metadata": {
            "tags": [],
            "needs_background": "light"
          }
        }
      ]
    }
  ]
}
