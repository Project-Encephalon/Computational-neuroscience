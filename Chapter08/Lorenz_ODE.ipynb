{
  "nbformat": 4,
  "nbformat_minor": 0,
  "metadata": {
    "colab": {
      "name": "Lorenz ODE.ipynb",
      "provenance": [],
      "collapsed_sections": []
    },
    "kernelspec": {
      "name": "python3",
      "display_name": "Python 3"
    },
    "language_info": {
      "name": "python"
    }
  },
  "cells": [
    {
      "cell_type": "code",
      "metadata": {
        "id": "oSFq5xtA1eMr"
      },
      "source": [
        "#ode function for lorenz system\n",
        "\n",
        "import numpy as np\n",
        "udot = np.zeros((3, 1), dtype = \"float64\") + 0.5\n",
        "\n",
        "def lorenz_ode(t,u,flag,a,b,c):\n",
        "  \n",
        "  udot[1]=a*(u[2]-u[1])\n",
        "  udot[2]=u[1]*(b-u[3]-u[2])\n",
        "  udot[3]=u[1]*u[2]-c*u[3]\n",
        "  udot=np.transpose(udot)\n",
        "  return udot"
      ],
      "execution_count": null,
      "outputs": []
    }
  ]
}