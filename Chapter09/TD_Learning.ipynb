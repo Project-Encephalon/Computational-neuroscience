{
  "nbformat": 4,
  "nbformat_minor": 0,
  "metadata": {
    "colab": {
      "name": "TD Learning .ipynb",
      "provenance": [],
      "collapsed_sections": []
    },
    "kernelspec": {
      "name": "python3",
      "display_name": "Python 3"
    },
    "language_info": {
      "name": "python"
    }
  },
  "cells": [
    {
      "cell_type": "code",
      "metadata": {
        "id": "IPFKYxo09glT"
      },
      "source": [
        "#TD learning\n",
        "\n",
        "import numpy as np\n",
        "import matplotlib.pyplot as plt\n",
        "\n",
        "\n",
        "gamma=0.8                                   #the discount factor  \n",
        "reward=np.array([0,1,0,0.5,0])              #the reward amount\n",
        "pattern_vector=np.random.random((10, 5))    #random patterns for the five states\n",
        "w=np.random.random((1, 10))                 #random initial weights are chosen\n",
        "V_mem=0                                     #the short-term memories are initialized\n",
        "previous_state=4\n",
        "TDerror=np.zeros((1,100))                   #initialisation of TD errors\n"
      ],
      "execution_count": null,
      "outputs": []
    },
    {
      "cell_type": "code",
      "metadata": {
        "id": "CNdZvmbvd1dz"
      },
      "source": [
        "for episode in range (0,100):                                   #the loop over episodes\n",
        "  TDerror[0,episode]=0\n",
        "\n",
        "  for pattern in range(0,4):                                    #pattern for each episode in a fixed sequence\n",
        "    V=np.matmul(w, pattern_vector[:,pattern])                   #calculation of value function from the current approximation\n",
        "    rhat=reward[previous_state]+gamma*V-V_mem                   #calculation of learning signal    \n",
        "    pv_tpose=np.transpose(pattern_vector[:,previous_state])     \n",
        "    summation=0.2*rhat*pv_tpose                                 #updating weights with a learning rate α = 0.2\n",
        "    w=w+summation\n",
        "    TDerror[0,episode]+=abs(rhat)                               #calcualtion of learning errors\n",
        "    previous_state=pattern                                      #Updating short term memories\n",
        "    V_mem=V\n",
        "\n",
        "\n",
        "    "
      ],
      "execution_count": null,
      "outputs": []
    },
    {
      "cell_type": "code",
      "metadata": {
        "colab": {
          "base_uri": "https://localhost:8080/",
          "height": 294
        },
        "id": "TLD2ZH9KHcpO",
        "outputId": "7d26b92b-e89d-4971-dfaf-6e1341877748"
      },
      "source": [
        "\n",
        "#Plotting the results\n",
        "\n",
        "\n",
        "#plotting of temporal differnce learning\n",
        "fig1=plt.subplot(2,1,1)\n",
        "epi=np.arange(0, 100, 1, int).reshape(100,1)\n",
        "a=TDerror[0,:].reshape(100,1)\n",
        "plt.plot(epi,a, 'b')\n",
        "plt.title('Temporal Difference Learning') \n",
        "fig1.set_xlabel('Episode')\n",
        "plt.ylabel(\"TD error\")\n",
        "\n",
        "\n",
        "\n",
        "\n",
        "plt.subplot(2,1,2)\n",
        "V_patt=np.matmul(w,pattern_vector).reshape(5,1)\n",
        "pattern=np.arange(0, 5, 1, int).reshape(5,1)\n",
        "plt.plot(pattern,V_patt, ':ro')\n",
        "plt.xlabel(\"Pattern\")\n",
        "plt.ylabel(\"V(Pattern)\")\n",
        "\n",
        "plt.show()"
      ],
      "execution_count": null,
      "outputs": [
        {
          "output_type": "display_data",
          "data": {
            "image/png": "[encoded data removed]",
            "text/plain": [
              "<Figure size 432x288 with 2 Axes>"
            ]
          },
          "metadata": {
            "tags": [],
            "needs_background": "light"
          }
        }
      ]
    }
  ]
}