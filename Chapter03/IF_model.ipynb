{
  "nbformat": 4,
  "nbformat_minor": 0,
  "metadata": {
    "colab": {
      "name": "IF-model.ipynb",
      "provenance": []
    },
    "kernelspec": {
      "name": "python3",
      "display_name": "Python 3"
    },
    "language_info": {
      "name": "python"
    },
    "widgets": {
      "application/vnd.jupyter.widget-state+json": {
        "abde511d8b3741c3a06a3ef524e98ccb": {
          "model_module": "@jupyter-widgets/controls",
          "model_name": "VBoxModel",
          "state": {
            "_view_name": "VBoxView",
            "_dom_classes": [],
            "_model_name": "VBoxModel",
            "_view_module": "@jupyter-widgets/controls",
            "_model_module_version": "1.5.0",
            "_view_count": null,
            "_view_module_version": "1.5.0",
            "box_style": "",
            "layout": "IPY_MODEL_d80b7d4f57a24bbf9adef2890d7e1ff4",
            "_model_module": "@jupyter-widgets/controls",
            "children": [
              "IPY_MODEL_2348a05ec86042b7a8ab5fe51c82800d"
            ]
          }
        },
        "d80b7d4f57a24bbf9adef2890d7e1ff4": {
          "model_module": "@jupyter-widgets/base",
          "model_name": "LayoutModel",
          "state": {
            "_view_name": "LayoutView",
            "grid_template_rows": null,
            "right": null,
            "justify_content": null,
            "_view_module": "@jupyter-widgets/base",
            "overflow": null,
            "_model_module_version": "1.2.0",
            "_view_count": null,
            "flex_flow": null,
            "width": null,
            "min_width": null,
            "border": null,
            "align_items": null,
            "bottom": null,
            "_model_module": "@jupyter-widgets/base",
            "top": null,
            "grid_column": null,
            "overflow_y": null,
            "overflow_x": null,
            "grid_auto_flow": null,
            "grid_area": null,
            "grid_template_columns": null,
            "flex": null,
            "_model_name": "LayoutModel",
            "justify_items": null,
            "grid_row": null,
            "max_height": null,
            "align_content": null,
            "visibility": null,
            "align_self": null,
            "height": null,
            "min_height": null,
            "padding": null,
            "grid_auto_rows": null,
            "grid_gap": null,
            "max_width": null,
            "order": null,
            "_view_module_version": "1.2.0",
            "grid_template_areas": null,
            "object_position": null,
            "object_fit": null,
            "grid_auto_columns": null,
            "margin": null,
            "display": null,
            "left": null
          }
        },
        "2348a05ec86042b7a8ab5fe51c82800d": {
          "model_module": "@jupyter-widgets/controls",
          "model_name": "IntSliderModel",
          "state": {
            "_view_name": "IntSliderView",
            "style": "IPY_MODEL_b215a67d1fd74244b2fed3d9c343bef2",
            "_dom_classes": [],
            "description": "RI_Ext",
            "step": 1,
            "_model_name": "IntSliderModel",
            "orientation": "horizontal",
            "max": 40,
            "_view_module": "@jupyter-widgets/controls",
            "_model_module_version": "1.5.0",
            "value": 15,
            "_view_count": null,
            "disabled": false,
            "_view_module_version": "1.5.0",
            "min": 0,
            "continuous_update": true,
            "readout_format": "d",
            "description_tooltip": null,
            "readout": true,
            "_model_module": "@jupyter-widgets/controls",
            "layout": "IPY_MODEL_161524ad520d4d7497a9d199b2437fd3"
          }
        },
        "b215a67d1fd74244b2fed3d9c343bef2": {
          "model_module": "@jupyter-widgets/controls",
          "model_name": "SliderStyleModel",
          "state": {
            "_view_name": "StyleView",
            "handle_color": null,
            "_model_name": "SliderStyleModel",
            "description_width": "",
            "_view_module": "@jupyter-widgets/base",
            "_model_module_version": "1.5.0",
            "_view_count": null,
            "_view_module_version": "1.2.0",
            "_model_module": "@jupyter-widgets/controls"
          }
        },
        "161524ad520d4d7497a9d199b2437fd3": {
          "model_module": "@jupyter-widgets/base",
          "model_name": "LayoutModel",
          "state": {
            "_view_name": "LayoutView",
            "grid_template_rows": null,
            "right": null,
            "justify_content": null,
            "_view_module": "@jupyter-widgets/base",
            "overflow": null,
            "_model_module_version": "1.2.0",
            "_view_count": null,
            "flex_flow": null,
            "width": null,
            "min_width": null,
            "border": null,
            "align_items": null,
            "bottom": null,
            "_model_module": "@jupyter-widgets/base",
            "top": null,
            "grid_column": null,
            "overflow_y": null,
            "overflow_x": null,
            "grid_auto_flow": null,
            "grid_area": null,
            "grid_template_columns": null,
            "flex": null,
            "_model_name": "LayoutModel",
            "justify_items": null,
            "grid_row": null,
            "max_height": null,
            "align_content": null,
            "visibility": null,
            "align_self": null,
            "height": null,
            "min_height": null,
            "padding": null,
            "grid_auto_rows": null,
            "grid_gap": null,
            "max_width": null,
            "order": null,
            "_view_module_version": "1.2.0",
            "grid_template_areas": null,
            "object_position": null,
            "object_fit": null,
            "grid_auto_columns": null,
            "margin": null,
            "display": null,
            "left": null
          }
        },
        "9b04227a8e454a0eaf1b27cab1425198": {
          "model_module": "@jupyter-widgets/output",
          "model_name": "OutputModel",
          "state": {
            "_view_name": "OutputView",
            "msg_id": "",
            "_dom_classes": [],
            "_model_name": "OutputModel",
            "outputs": [
              {
                "output_type": "display_data",
                "metadata": {
                  "tags": [],
                  "needs_background": "light"
                },
                "image/png": "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\n",
                "text/plain": "<Figure size 432x288 with 2 Axes>"
              }
            ],
            "_view_module": "@jupyter-widgets/output",
            "_model_module_version": "1.0.0",
            "_view_count": null,
            "_view_module_version": "1.0.0",
            "layout": "IPY_MODEL_0e6eebabd421488cb3bc5693d974e45f",
            "_model_module": "@jupyter-widgets/output"
          }
        },
        "0e6eebabd421488cb3bc5693d974e45f": {
          "model_module": "@jupyter-widgets/base",
          "model_name": "LayoutModel",
          "state": {
            "_view_name": "LayoutView",
            "grid_template_rows": null,
            "right": null,
            "justify_content": null,
            "_view_module": "@jupyter-widgets/base",
            "overflow": null,
            "_model_module_version": "1.2.0",
            "_view_count": null,
            "flex_flow": null,
            "width": null,
            "min_width": null,
            "border": null,
            "align_items": null,
            "bottom": null,
            "_model_module": "@jupyter-widgets/base",
            "top": null,
            "grid_column": null,
            "overflow_y": null,
            "overflow_x": null,
            "grid_auto_flow": null,
            "grid_area": null,
            "grid_template_columns": null,
            "flex": null,
            "_model_name": "LayoutModel",
            "justify_items": null,
            "grid_row": null,
            "max_height": null,
            "align_content": null,
            "visibility": null,
            "align_self": null,
            "height": null,
            "min_height": null,
            "padding": null,
            "grid_auto_rows": null,
            "grid_gap": null,
            "max_width": null,
            "order": null,
            "_view_module_version": "1.2.0",
            "grid_template_areas": null,
            "object_position": null,
            "object_fit": null,
            "grid_auto_columns": null,
            "margin": null,
            "display": null,
            "left": null
          }
        }
      }
    }
  },
  "cells": [
    {
      "cell_type": "code",
      "metadata": {
        "colab": {
          "base_uri": "https://localhost:8080/",
          "height": 311,
          "referenced_widgets": [
            "abde511d8b3741c3a06a3ef524e98ccb",
            "d80b7d4f57a24bbf9adef2890d7e1ff4",
            "2348a05ec86042b7a8ab5fe51c82800d",
            "b215a67d1fd74244b2fed3d9c343bef2",
            "161524ad520d4d7497a9d199b2437fd3",
            "9b04227a8e454a0eaf1b27cab1425198",
            "0e6eebabd421488cb3bc5693d974e45f"
          ]
        },
        "id": "KGpVXQUr7ueg",
        "outputId": "570394f1-66a4-4987-ac48-98cd6f83fbaf"
      },
      "source": [
        "#Simulation of leaky Integrate-and-fire neuron\n",
        "\n",
        "%matplotlib inline\n",
        "import numpy as np\n",
        "import matplotlib.pyplot as plt\n",
        "import ipywidgets as widgets\n",
        "\n",
        "\n",
        "def ext_change(riext=15):\n",
        "  # parameters of the model\n",
        "  dt=0.1        #integration time step [ms]\n",
        "  tau=10        #time constant [ms]\n",
        "  E_L=-65       #resting potential [mV]\n",
        "  theta=-55     #firing threshold [mV]\n",
        "  RI_ext=15   #external input [mA/Ohm] #need a sliding bar like you did in HH model\n",
        "  v=E_L\n",
        "\n",
        "  #Data bins\n",
        "  t = np.arange(0, 100, dt, dtype= \"float64\")\n",
        "  v_rec=np.zeros((t.shape), dtype = \"float64\")\n",
        "  t_rec=np.zeros((t.shape), dtype = \"float64\")\n",
        "  s_rec=np.zeros((t.shape), dtype = \"float64\")\n",
        "  theta_rec=np.full((t.shape), -55)\n",
        "\n",
        "  for i,val in enumerate(t):\n",
        "    s=v>theta\n",
        "    v=s*E_L+(1-s)*(v-dt/tau*((v-E_L)-riext))\n",
        "    v_rec[i]=v\n",
        "    t_rec[i]=val\n",
        "    s_rec[i]=s\n",
        "\n",
        "\n",
        "  # making subplots \n",
        "  plt.subplot(2, 1, 2)\n",
        "  plt.plot(t_rec, v_rec, \"b\", label=\"cccc\")\n",
        "  plt.plot(t_rec, theta_rec, \"b\", color=\"black\", linestyle=\"--\")\n",
        "  plt.ylim([-66, -54])\n",
        "  plt.xlabel(\"Time (ms)\")\n",
        "  plt.ylabel(\"v (mV)\")\n",
        "\n",
        "\n",
        "  plt.subplot(2, 1, 1)\n",
        "  plt.plot(t_rec, s_rec, \".r\", marker = 'o')\n",
        "  plt.ylim([0.9, 1.1])\n",
        "  plt.xticks([])\n",
        "  plt.yticks([])\n",
        "  plt.ylabel(\"Spikes\")\n",
        "\n",
        "  plt.show()\n",
        "\n",
        "# adding a slider\n",
        "\n",
        "style = {'description_width': 'initial'}\n",
        " \n",
        "riext_widget = widgets.IntSlider(min=0, max=40, step=1, value=15, description=\"RI_Ext\")\n",
        "\n",
        "control = widgets.VBox([riext_widget])\n",
        "\n",
        "plot = widgets.interactive_output(ext_change, {'riext':riext_widget})\n",
        "display(control, plot)"
      ],
      "execution_count": null,
      "outputs": [
        {
          "output_type": "display_data",
          "data": {
            "application/vnd.jupyter.widget-view+json": {
              "model_id": "abde511d8b3741c3a06a3ef524e98ccb",
              "version_minor": 0,
              "version_major": 2
            },
            "text/plain": [
              "VBox(children=(IntSlider(value=15, description='RI_Ext', max=40),))"
            ]
          },
          "metadata": {
            "tags": []
          }
        },
        {
          "output_type": "display_data",
          "data": {
            "application/vnd.jupyter.widget-view+json": {
              "model_id": "9b04227a8e454a0eaf1b27cab1425198",
              "version_minor": 0,
              "version_major": 2
            },
            "text/plain": [
              "Output()"
            ]
          },
          "metadata": {
            "tags": []
          }
        }
      ]
    },
    {
      "cell_type": "markdown",
      "metadata": {
        "id": "bGTcXzMV7hkI"
      },
      "source": [
        "# Expected Output\n",
        "![image.png](data:image/png;base64,iVBORw0KGgoAAAANSUhEUgAAAZAAAAEJCAIAAAA1tOYQAAAgAElEQVR4Ae19C3QVRbZ2/+ve5ZoZ113OXJlBhQEkCjMJISDK+EzAOOiSi6jIDSG83yIPQUAEIeJFUBkQEEQQZZCrMIrK4KAoFxRE5Cm+UEB5KoRXQF6S59n/qt5JUadfp6q7Osk5Z/dikerq6r2rvur6TnfVrr0NoIMQIAQIgThBwIiTelI1CQFCgBAAIix6CAgBQiBuECDCipuuoooSAoQAERY9A4QAIRA3CBBhxU1XUUUJAUKACIueAUKAEIgbBIiw4qarqKKEACFAhEXPACFACMQNAkRYcdNVVFFCgBAgwqJngBAgBOIGgZpIWJdffnkLOggBQiAJEKhVq5YSWdZEwmrRooVSG6gwIUAIxCkCqoOdCCtOO5qqTQgkAgJEWInQi9QGQiBJECDCSpKOpmYSAomAABFWIvQitYEQSBIEiLCSpKOpmYRAIiBAhJUIvUhtIASSBAEirCTpaGomIZAICBBhJUIvUhsIgSRBgAgrSTqamkkIJAICRFiJ0IvUBkIgSRAgwkqSjqZmEgKJgAARViL0IrWBEEgSBIiwkqSjqZmEQCIgQISVCL1IbSAEkgQBIqwk6WhqJiGQCAgQYSVCL1IbCIEkQYAIK0k6mppJCCQCAkRYidCL1AZCIEkQIMJKko6mZhICiYAAEVYi9CK1gRBIEgSIsJKko6mZhEAiIECElQi9SG0gBJIEASKsJOloaiYhkAgIEGElQi9SGwiBJEGACCtJOpqaSQgkAgJEWInQi9QGQiBJECDCSpKOpmYSAomAABFWIvQitYEQSBIEiLCSpKOpmYRAIiBAhJUIvUhtIASSBAEirCTpaGomIZAICBBhJUIvUhsIgSRBgAgrSTqamkkIJAICRFiJ0IvUBkIgSRAgwkqSjqZmEgKJgEBNJ6z169efO3cOABYtWjRs2LD9+/fbUVdtg10C5RAChEBcIKA62I0qblV6enokEvniiy+aNWs2a9aszMxMewVU22CXQDmEACEQFwioDvaqJqzmzZsDwIQJE+bPnw8AeGpBVrUNltvplBAgBOIFAdXBXtWElZmZOWnSpGuuuaagoKC8vLxJkyZ2ZFXbYJdAOYQAIRAXCKgO9qomrIKCgqlTp65btw4ADhw4sHDhQjusqm2wS6AcQoAQiAsEVAd7VRMWAOzfv3/VqlUAcP78+TNnzthhVW2DXQLlEAKEQFwgoDrYq5qw5s2bd/311zds2BAAdu/effvtt9thVW2DXQLlEAKEQFwgoDrYq5qwMjIyiouLmzVrhmjSHFZcPFVUSUIgJARqOmG1bNkSAJCwSktL09PT7UCotsEugXIIAUIgLhBQHexV/YY1cuTIp556qnHjxh9++OG99947ZswYO6yqbbBLoBxCgBCICwRUB3tVE1Z5efm8efMeeOCBDh06zJs3zxFT1TY4CtGWOf8VMIyKf/Nf0SbWIoi0WADxPiW4vPGxX62piKkO9qomrHHjxnEwy8rKOnfuzE95QrUN/Eb9CbGbkbbC4CzSotRzBJcSXABQgxFTHexVTVg9evSYNGkSABQXF7dv3z4/P98Ovmob7BK05fB3KzGhTXqlIFE4T1de1PaXSxYT2qRXChKF83TlRT1/uVgxoUe0IEUUztPCdT1JLllM6BEtSBGF87RwXU+SSxYTsUSrDvaqJqxIJJKbmztp0qS//vWv06ZNc2yOahschejJFKHnaT2iBSlcspgQrutJisJ5Wo9oQQqXLCaE6xqSomSe1iA3WgSXLCaii2g4E4XztAa50SK4ZDERXUTDmSicp2PJVR3sVUdY2yqPjRs3ZmRkDBw4EDPsLVJtg12CthyOu5jQJr1SkCicpysvavvLJYsJbdIrBYnCebryop6/XKyY0CNakCIK52nhup4klywm9IgWpIjCeVq4rifJJYuJWKJVB3vVEVYrp6N169b2Fqm2wS5BW04N/vhXbmPCtCVhGlKzZ5eq5gFTHexVR1jy7Vdtg7xkPyXF4RHGjDvWibQo9Q3BpQSXhRlr0mOsOtirjrAWLVoEAFNthx151TbYJVAOIUAIxAUCqoO96gjrxRdfBIAnbIcdVtU22CVQDiFACMQFAqqDveoISx4+1TbIS6aShAAhUKMQUB3sVU1Ye/bs+a//+q9atWr9/ve/v+eee/bs2WOHT7UNdgmUQwgQAnGBgOpgr2rC+stf/vLqq6+WmseiRYtwL7QFWdU2WG6nU0KAEIgXBFQHe1UTlsU9Q9OmTe3IqrbBLoFyCAFCIC4QUB3sVU1Yo0aNmjx58r59+/bv3//MM8+MHj260DxEcFXbIN5LaUKAEIgjBFQHe1UTVgPzuNo8MN2gQYOrr75ahFi1DeK9lCYECIE4QkB1sFcdYW3evLmgoACh/Pvf/96uXbvBgwcXFhbawVVtg10C5RAChEBcIKA62KuOsJo3b470tHbt2iuvvHLp0qWPP/54hw4d7LCqtsEugXIIAUIgLhBQHexVR1h8fn3gwIHcq0xGRoYdVtU22CVQDiFACMQFAqqDveoIKy0trbS0FAAaN268du1aRDMtLc0Oq2ob7BIohxAgBOICAdXBXnWENXHixJtvvvmee+5p1qxZJBIBgO+///7mm2+2w6raBrsEyiEECIG4QEB1sFcdYQHAZ5999vbbb587dw6h3LVr17Zt2+ywqrbBLoFyCAFCIC4QUB3sVUpYkgiqtkFSLBUjBAiBmoaA6mAnwqppPUj1IQSSCAEirCTqbGoqIRDvCBBhxXsPUv0JgSRCgAgriTqbmkoIxDsCRFjx3oNUf0IgiRAgwkqizqamEgLxjgARVrz3INWfEEgiBIiwkqizqamEQLwjQIQV7z1I9ScEkggBIqwk6mxqKiEQ7wgQYcV7D1L9CYEkQoAIK4k6m5pKCMQ7AkRY8d6DVH9CIIkQIMJKos6mphIC8Y4AEVa89yDVnxBIIgSIsJKos6mphEC8I0CEFe89SPUnBJIIASKsJOpsaiohEO8IEGHFew9S/QmBJEKACCuJOpuaSgjEOwJEWPHeg1R/QiCJECDCSqLOpqYSAvGOABFWvPcg1Z8QSCIEiLCSqLOpqYRAvCNAhBXvPUj1JwSSCAEirCTqbGoqIRDvCBBhxXsPUv0JgSRCgAgriTqbmkoIxDsCRFjx3oNUf0IgiRAgwkqizqamEgLxjkAiEFatWrVa0EEIEAJJgECtWrWUONdQKk2FCQFCgBCoRgSIsKoRfFJNCBACaggQYanhRaUJAUKgGhEgwqpG8Ek1IUAIqCFAhKWGF5UmBAiBakSACKsawSfVhAAhoIYAEZYaXlSaECAEqhEBIqxqBJ9UEwKEgBoCRFhqeFFpQoAQqEYEiLCqEXxSTQgQAmoIEGGp4UWlCQFCoBoRIMKqRvBJNSFACKghQISlhheVJgQIgWpEgAirGsEn1YQAIaCGABGWGl5UmhAgBKoRASKsagSfVBMChIAaAkRYanhRaUKAEKhGBIiwqhF8Uk0IEAJqCBBhqeFFpQkBQqAaEaiJhHX55ZcngTNraiIhQAi0SASf7qqBNKqR70k1IUAIBEFAdbDXxDcs1TYEwYvuJQQIgWpEQHWwE2FVY2eRakIg2REgwkr2J4DaTwjEEQI1hbDy8/OvuuqqDPNYsWIFAOzbt+9Xv/oV5vTv398DU9U2eIiiS4QAIVCTEVAd7GF9Eubn50+ZMkVEat++fWlpaWKOW1q1DW5yKJ8QIARqOAKqgz0RCCsr+pg9ezYAnD9/Pjo7a8GCBQBw/PhxS/6SJUsA4ODBg5b85cuXA8AX23bWMVo1S23Fr65atQoAtm/fznMw8emnnwLAp59+asnfvn07AKxatcqSv3PnTgBYvnx5VlbWjTdkXWm0+sv1rMjBgwcBYMmSJZbyx48fB4AFCxZY8s+fPw8As2fPtuTjkzplyhSef116qz8ad184x648+eSTPD8rK+v+++/H8qNHjxbz8/LyMH/o0KFift++fTG/b9++Yv7QoUOXToTHDcjLyxPzR48ejeXvv/9+Mf/JJ5/E/LvuukvM5792YmZWVhbv3JT/bHVt7Yud4q9zd+7caZEvdm5mZtYf/1+r9GuZliCdK6qwd+4tN2VdZbRa+8/CgJ2blZV11113IZj2zv1mPQwyYOigx8TK+OhclO/Wube26FDHaFVejqWk/q9BhFW/fv309PSePXuePHkSPwl/85vfNGvWLDMzc926dfbWzJ07F+1S6tWrZ7/qkSP2gfhMW/L9PdNDjR8uM1qn1Lo4NsRnWlTh+5nOzMz6ndH6MqN1kxSmxf5Mo5aAhHXLzVmXGa3/07h739cMS/szjQgHJKxunR7OMSAnZMJaNqPoMhMxjr+/zvUmrJRarS4zWtc2WodKWLXNhky591R4hNX+nvuxU7o9ECJhHfoB/mA8cJnR+ixriuxRDYSVnZ2dFn0sW7bsyJEjZWVl5eXlY8aM6dmzJwAUFRWdOHECALZu3Vq3bt3Tp0+7tUm1DW5ygueveZWNvRwDZmQHF+Yq4cXcCi3vsVfDsI5HzYbkGICEFYaa4gvQq1JLGPJR5tED0NnU0ieszwOm5/NV0MnU8kSYWt6cUNH1i4aHBxhM/m2Fls1sMjmUo7wcBlZ2fU0nLG8AHKeusrKytmzZ4nZjDSGs44cgz4CeBntwp7d2q2zQ/K8/YfK7m529YlZQaW73/3Mqe2RRy96v3EoFzf/bdRVaOoU2yCMRGGL2SBcD+oam5fwZ6GZAF1NRfmhaDnwLuQb0MLt+0bCg4Lvd/8kbF7t+07tupYLmv9LvopYz7INK9lAd7GH1xuHDh7HK06ZNy8nJAYBjx46VlZUBwJ49e6666qrCQvbR7niotsFRSMDMSASGmc/rdxsZoTyXGVCe8+0XzrHnNc+AjctZf6943rlYwNxDP7CB0c+At55iWvZ8GVCe8+2b3mVA5RswJYMlQjpeG8Wa8OpQGBwmYT1pdv2GZaxrQiKsslLob7B++erjihaFgdjPxxntdjfg/xYwLRvZrKz+Y+cm1uPDDHi5L9NyxnVkO6hWHexhPVldunRp0qRJenp6u3btkLyWLl2ampqakZHRvHlznM92qL6ZpdoGNzlB8pc9y6B/2ZxZ7mTAtFuCCHO995kUpuXj12HXFpb41wzXkr4vRCJsbOcasH8HLJvCtPzwhW9hrjeePwNdDfbv3Gn423VhERa+kgw2AN+zQvokXLuYofRsY9bYPAPGhzNEXurOtLzzNBQWsMTCwa7YBrkwxmTeLz+CT99iWj77ZxBhzveWlkBvg32kHz8E+J51mk38yB6qgz2c3pCtrXM51TY4SwmQe+Iw64C+BpSVMimMsG4MIM7l1q/XMck4RbJ7K3ue3p3uUjRA9tuTmWT84sAPw+8/DyDO5dZnGzMt+AM+9YZQCCsSYetcuQYc3sMqMcSAMAgLmbe7AUVs6ZW9nowLYYgc+JZBNMxk3pNHGHR/H+SCbIBsZF6cft3wNtOyYVkAcS63vtSTScbp1wUDWPpntpote6gO9hB6Q7aqruVU2+AqyO8F/F3auani/k4GTL3BryyX+/B3Kc8A/DnavY319PJpLqX9ZhcWMObtZwCuNC+fxrTs3uZXnMt9IvMCMHIP45PwnadZ5flcz9BwCEtk3pAIy8K8p46ydi0Y6AKu32wL825YxrRseNuvOJf7kHmHm8zLVjkHMi2njrqUdspWHexEWFYUP36dgS4uC3Yy2GeO3mN+b6aFz7J//zk7/edUvUoAmXdX5fLGu9OZlt1bdWqxMC8jrFv0E5aFeQFgqMG+RPQeyLzipFUXg9mU6T0szPvzcdYpCwboVQJT0phY/g342T/Z6adv6dTCZxvwnReAvSfmGHDyiIIWIiwFsOxFi86ziZjuBhRfuHixkzmRfPE8cOrgTvZp83Dl7xIAm1fKMdgck8YDl4fE9c1/zWBaOH9p0YXTFuJywXOZ+glrrDkXw995ARh6egmrrJR9Y+ZFf9F0MWCsVsI6eaTinRdnGwDYK3aOwWZ/NB7frGddIDIvruqsX6pRScWU6KtDL8pcOJi1pbDgYk7MFBFWTIi8CrzQgSFu6VdGWFJ7irwki9dGmnMxh364mLfnS6Z32bMXcwKmSovZ+mO3yrkYlLbieaZFHPYBtRz7kTHvUIF5AZgJiN5Pwq0fsGpbvsofNpjNl8Zj8VimxfJV3lU3YU00mffbzy5W/Ewh04vLOxdzA6QiERhgzoKLc0mb3mVaPnkjgNzoW8+dZuTep3KeFy++OpRpOVFhIBB9g8sZEZYLMBLZuPw/wjYMOlWuGUnIiF0Epz9n3xdVcu9XrKffeToqM8gJvpx/+HKUjBWzmJbvNkZlBjkZZw4/i53EjGymRddRXl7x4nMu2tB4mFbCOn2CvfgMiGZeAPa6PUZfW9BEZmK0wDMnGVzze+sCjC3d5BiweGyUwM0rWOa6f0RlBjmZdiMTuO3DKBmLhrHM44eiMr1PiLC88fG6+qg5/A6yHX5RR64Bz6RE5fg+KS1h7wVdDcANfVzOvq9ZT789mWcEShQWsBefQbbh995spkX8eQ+i5suP2JsULv+Lcma0YVp0HW8+yaTZqXy4VsJ6+grWlq8/sdZaI2FFIswWvLNtTvrsKdbAl9hmEA3HL2fZymbv6BcfANjyHtOydrEGFQCAc+12Kl80nGk59qOCFiIsBbDEovjOPKONmFeRZoSltrvRQQhm/e8I1qP2LTj7d7D8t55yvVHpAto92ifX35/DtOzYoCTMuXAkwuwe8wywmzXPvItpiUScb1TKPXOSqeCrnOK9w81NCGKO7/TubYytHLfgdDXgMU3ki+DzVU5e23OnGVwvdecZgRIIvt2ifev7TMvHrwcSzm8ebs5pHNnPMyoS+HgfZZv3ZQ8iLFmkxHKRCLO66mLAL2fF7Ip0rgFPX+GQr5p1ppD9wD7oNJgPfMuep6UTVUU6lEez40lOw2zli0zLN+sd7lLNQguJN/Id7nv+bqZFacu+gxQza+oNTNQXaxyuP6KPsIaaw89x5qWbAaOdkHSokGdWSRF7re5pQGmJtdz5M6yN87pa832cH97DmHeUU4VxHvDj13xItd6Ccxovst0r1gP3IRw9YM33OCfC8gDH9RJ+K705wblArsG2jwY/prdmj+bXDo4q4MB37NKbFa5WAqkaZg4/R1uYD+aZFbB9+KjqKy1m0/m9XFhpVjumha+CqQrn5Y8eYMPPjS8eMXfh8cK+E/hmPbfCiY5VjC7CwtloR7745SyDy60C1gp5nue7zGkAsMmmHAM+WuR5v8RF/tOOhrWWO15/lGmxv3lZiomnRFgiGlLp0hJmx9DD6dcP7881YNIlUqI8CuGCmuOvH/PGtZP1tBtjeoi1XMI3/zkdLdkVpx++xLQ4MqbzDS65+FyuXuh8eVZ7psX+KuFc2j0XP2z373AuMUIHYfEPW8c3awDGy486vbA418klFxfUHN+sAdhsZo4BL+a63CydvedLxu+Ob9bofCLHgDWvSotzKYi/ef8Y73x58WOsLQV7na865hJhOcLilbnkcYbyB/NcyzDCCvzUPuW0oMZV/rib1cHxC4uXiZnA9ew8A86fcS774ctMy1cfO1+VzP3lLJtX6u/0YYsSZt/HtJQWS8pzLrZ/Bxt+/+MO+0gdhIVbgl9/1LkOAOyXzO03xvUe2wW0ldn6ge2CmVF0nsHl+IXlfINL7ijzzdpthW77aqbF7TfGRaQ1u6yU/a53d/81QtMQbkdqvd/pnAjLCRX3vAvn2NRVP/fhB8BW3AIS1sGdbPiJhnyWGv30PXueAhLWx68xIfZpXa5r1SuswJcf8Qw/iXldmRAPz0o4PgMS1miT3z1mQ0aaI8dPAyrvKS9nk0rdPLk1OGGdPMKen2HuzFt8geHp9lJcWdkYf79ex4SI2zMsN3yxhhUISFhLJzIhfHuGRQVzk2v+9osGhvYylhwiLAsgMU5xuybfweBYOteAp9wfOMdbLJloqO3xy3PoB/YouL1pW6Q5nkYibDG7qwElRY7XWSa+UDjOYbveE30B1w2GeqIxpyNri0c1okU6nH37GZNgsRS1lBsVmLDQd4XFUtSiJThhobMdD2PdkiLW2Bc6WDSrnQ4xDSY8/Lp8+RHT8n/MSbjPA9cN+nj+tP9jPNPy0/cKKoiwFMAqOs++bh70HH4AbGnPYuynoKPSaMV72v7wHtbTSx5XEhxVGMnIe9p+9UKmZfvqqBuVTpCMvGfBXsxhWsS9TUoqANhXWG70Fhm7hICEVV7Ovm56uqwbcHU9DBgZ6/Hghe0JfL1yWzfA8qXFDC6LIbFdlEcOvj15T9uj161Vr3iIiXEJych72v6NfNYWIqwYUPq+jHZuMXeEBiSsJ8yvG++lEyQsi3WyfLtw7aar59cNAPsiyDGY819/x/kzjLu9X68A2HRMTvSWICV133/OPp9j+vMZZX7NKUkWC+O6cEx/PgEJC43+vTdvImHNai/WTi093Hy98nZMjIRl2fkgr6a0hH07e79eAbA5jRwDftwtLxjoDUsWrJIiNnvlMXnMBXX2nP3lxRwTaBrzZKxf6YK9rKcXP+YoI3Ym7nP2mDxGEeii3jdhoT9Jt8ljXkt0UW8x5edXYybw89nRKkq899EAhBWJMJuM7hK2Fz0MsG/VEqvhkT5TyN4TH4nV9aUlrOt9ExZ+Ps9q51ERdgknuT58KUYxt8voz9JjYQpvRBf19r0ibmIBiLA8sIm+hBOEjqYx0QXZa0VMxrHcwk8nuZvG8DIAzHQlx4CYjCPeIqYfNI3OY36FfbSIabHs/xLleKTx83lgrOEHwEyKclxMcD3k4yXc8+H9+YwlRwcgLHzT9P58Ri09JBjHrVH4+RxzTbas1CSsWIzjpkXm85kR1idMS0zGcdSCn889Yn0+AzBDwhyDGRXKH/SGJYVVaQmbn475iouyfBPWsR/Z142MQ6WjB1hPvzZKqvKWQrivVcahEi4jxnxFssjHU9x1IeMBDpcR3UwrHIXzzAkmv8sY8vgmrEiELQrH/HzGKvX0S1j4+TxEgt/Ly1nXP383x0Ah8cMX7AHzXp1Acd+sZ1pWvqggnBfFTUUyztpwGfHAt/zW2AkirNgYAbClWfn+yzNggsSTZ1eMvjdlfKgfPcjq878j7DJi5ww1pzBkCAJ9E259P7ZMSwnkd2/jD34Leiu3OFfgVz0SaNouCfVjJul4SHO7hL43JaHuacBwX12Pvje3vOdWi4v5kQjr+pkVIVAv5suk0FuGm+2VKGHHBqbl/TlinlQ6EmG/690kPp8BKqKcuNn6OuojwnKExZrZT7oPMBKB485Yq9Doc/yNjTmFgTcd+5E9Tz6C06GrUsnfZ3TyLTOKoptSwe+SHxTo5Nt7DtgiH0/RkZZk2MQxfglrmMnvklNsvXwRVlkpe4PrL810zITKade9I0o8E9/fJScrcKrLvuueS3NL4NYlyXd/DCAg2YOokQjLDfmL+bgRVPSUePGaU8pfrCf8hrLvm3fSwFwIedt8Ot7FAjib31Ayv7EAzB2St82nmxb8hpLcHojen+1eHNyEY/6Fc2yu0MPA0nK7P8La+xX7hvIwsLRo6aVSJX4vbjL3MLDkJTHhbfNpKcxP0TGDzPs7AHOC5m3zycVaEo+Y/O62dclSGL0/KwW+1ElYR48effvtt2fNmvXyyy9v2rSpXMsGfEsTnU5V2+AkwytvpPQ3FErxQVjl5WwRSnKODIA5acRwe171tl07eYQNP/mwLriYKMmhXNvnq1jd5MO6+AhOB8AczimFdRnr6w0LHX7K+z/pZXqy5lBIJgbgHJnNMYPb7T4i9RadlzIx4Rp3bjIJSzHwJa6ByMe4w8VEi0NHXgfHhOpgd35tXbNmTZs2ba6//vq+ffuOHTv2kUceadeuXWpq6vjx4z1CzDtWyEemahuUVBz4Tnaekov1EZwO16HkfbT7C06HFk/yHkTXL2VPrWo0TVyHkv/E8xGcLhJhZpy9PK2oeXdgYqzpDsiS6X3683FmZ6Dko723OmGhxZOSj3YfkXrR4sniy9uj+f4CX066hA0WbxNCUamPwJeqg92ZsEaMGHHggNWrTWlp6TvvvLN0qVZH9mJzK9Oqbai8T+ov9oHMOhQX5yM43UPmcJLfT+cjOF1JETPTH+TcgbzuUQkf0TR/+p49skoOV30Ep8PVACX/hY+rExYuXyr5L+wtYSgbBTEwh3+5Tn4NLcXEU9VIvZEIs9FX4ncfgS/RjszuVlSsuSXtI/Cl6mB3ft4LClQCX1hqHfhUtQ3yCs+fYQ+T91YJuzRVwsLXbyWHIT6C0+GvmZLDEB/RNHErnJLtso/gdENMOzKl7YfjFAmrtITZCcvYkYkPQB9FwsKFThk7MlGLjGW/WB7flJWcEfkIfIlvyt7bsMRaAbAQHqqBL1UHuzNh1a5dOzs7e/78+adOnbLUqQpOVdsgXyXcD6W6TKYanA4nSpSis/kITjfAXOhUmldUjaZZfIFNlEgudPJeUA1OhxMlquv6qoSFrnVUDZH6GCzEtPyBrnWUlskwtLiMLRWvBk7COrrQ42UsCdXAl5EIm4SVX+hEdT4CX6oOdufeKCsrW7lyZY8ePf7whz/cc889ixcv/uWXXywQhHeq2gb5mvQx97uquhtXCk6HL3FKL9I+gtPhlISqI3DVaJr4hq8auUA1OB2GtvdwZeHYv+PNlzLHS46Z+BIn/5GOQpQIq6yUvcQpfaSjFqVIvUcPKn+k+wh8iS/jSh/pAOAj8KXqYHcmLN7lxcXFy5Yt69SpU+3atTt37szzQ02otkGyMuhhw8NdlJscpeB0+BLn4S7KUQsGp5OfqcUdPzE33Fl0qUbTfNBc7VJ6iQMAdAcsGU0TZ+LkrRl4i/JVCAv9kclbM3AtfVXesHClxYetk1KkXtzxo7QSBwAVgS+lI/WOUrFW43D5CHypOthjEBYA7N69ex6WcN4AACAASURBVMKECddee23z5s15zUJNqLZBsjLjcTa0ULL4xWJKhNXH9ISp+hKHwekko2leOMdm4ny47lWKpokfEUozcQgZBqeTJFN8xJVm4lCLEmFhMGoltyeopa8Bg2MPkYpH5WGTQ1Vf4vCTUDJSb3k5M0lVnYkDAAx8KRmp9/gh9hKnOhPHN5DIL1vr3Px88ODBZ599tnnz5o0aNcrPz//uO5UdjRU96PNPGIR1+gQb5B4+Pz3qKh+cDreYLhzsIcz5Egank4ymiTu2vJ0OOqpRiqaJofqUYsyhUnTaI2nL+pD5Eidpkio26gnpN6zSYrac+rA074ha+kkT1qEf2CCXN1kStTiGdxQL8DTuBv3XDJ4hm8DAl/bwjo734/b13dscL3pl+gh8qTrYnbvxpptuqlev3ogRI7Zu3epVwXCuqbZBphb4nRJz67yjKHnCwr27p084ivHKrAhOJxdNs5/pGkX1JU4pmibanftzZ44m/jJMhz/7/pxtTpAmLNy768/ZZj/pOakZbRhhKXlW4Q+EfKTe4WarlZZTUQsGvpSJ1IsvcQOciYFX2TnhI/Cl6mB3rtfatWsjPgaEcyuUc1XbIKOgtxkOV6akvYxkNE2cbpfxzWBXIR9NE20m5Ge7RF0Y/lcmmiaaLMd0bSgK52n5aJpoM+HhuJ3LtCcmmJMs9nx7zmDTAMLHSxwA8+sgM4mO0+1K64liPSUj9aLNxN+uE2+VTctH6sXtEPI2z2INqo2wsBJ79+4dNmzYfffd167yECsXMz1z5szGjRunpqaOHDkSC0+aNCklJaVRo0YrV670uF07YeEgXzDQQ6fXJcngdLiRSnXjCyqWj6Y5JY39kkvOEFlaVRH+VyKa5mBf0+2oTjKaZlmp/y813ETZ2fnXNqrRR/YzuKa3jsqUP+lvwEMSWnCT5grFjS+8GpKRenGTpuTmQS4cE/KReseYU71KNhNcl49IvaqD3as3mjZtOmPGjDVr1nxcefCaxUysWbMmOzu7qIhFRDh69CgA7Nixo2nTpkVFRXv37m3YsGFZWZmbENU2uMnh+c829j/IMTidjK3pIHOQ+3sxlYymWVrCBrk/hycAgLu+vd1yA7C4cmyHsLr/AARcMpomuo7wsaaGWp6Ue8NCXzdK23H5YwPADJFkZriDDHIMyxRzhhut2/t5jVex4ta0ZKTes6fYVK8P3ySoz0ekXtXB7gVAy5Ytre2WPu/YseOqVVHOwyeZBwpo06bNhg0b3ISptsFNDuYHHOSS0TTRFbKq9SOvuWQ0TdzC4sOrESrC8L8xl+RwC4uq9SNvi2Q0TdzCEtNLKhdrSfyPBGHhFkXfgxwABkgQFg5ySTdellbgqUykXvTAJ+nGy65FMlIvrueoWlZzdT4i9aoOdi/Ceu2115544okNGzZsqzx4zWImMjIyxo8f37Jly8zMzM2bNwPAQw89tGhRRajsXr16vfnmmxYhc+fObWEe9erVs1wKcoqOzFVNnEWNMrGecGFFyXWZqEIymuZoc5T6HuTod8E7OB0OclUTZ7EtMtE0z55iL3GSvpxE4Tw9UYKwcNFW0pcTlywmBkgEVUK/wD7cInJFMoEvcdH2FPtW8XNIRuodaG6f8PeVAAA+IvXqJKzRo0fXqVMnMzOzlXm0bu08E5CdnZ0WfSxbtiwtLW3QoEGRSGTTpk0NGjSIRCIxCYv3g2ob+I2OCTSB87GwwqXFJCwc5P4WVlCLTDTNMyfZIPcIhswr7JaQCf+LzgZ8h8OQjKaJ0Qr8eZfH1skQFm50//m4Gx6x82UIK+Agl4nUi5YZvsNhALDQWzEDX+JG95jxLDxQ8xGpV3Wwe71hpaSkFBf7jDh+5513rlmzBtvWsGHDY8eOVcsn4c/H2SAPGAa1e6zgdGhD7ztIFwALOxozmiZ6FPEd8wYAMICd9wI/2tAHGeQy0TQfDPZLDsD6NNfr4YXSYrYRMkhUQQAWs9L7dwjfXHzHvMEBEjNSL9rQ+w7SBQAYqdc78CXa0Ct5ZLeQl49IvToJq3379jhfbqmWzOmcOXPGjRsHALt27apbt24kEvnmm2/4pPvVV19dNZPuOHiCxDoGYK6avJ/7p0y3nz7MrziSMtE0H/RrfsW1ILF6RNPUMshjBqfDQR4kdCgATIpFWDh4PBrLYfFIxCQsHOT+zK+43piBL4N/JcQMfIm7nb3ZmVfYLYHEqhSpVydhZWVl/e53v2vTpk2lVYNCKKLi4uK8vLy0tLTmzZuvXl0Ra3jixIkNGzZs1KjRe+95eedXbYMbfADMiKarils4R1Hewelwed6b0RzFipkxg9Nh4MKAv+Qxo2miIXWQX3IW62kCe1v0GMM4qa8UDErECtOTLonxhoXzfT42yoi6BsZ6w+oZq4AozS3tTVjnTrOvhCCxx3Hl1zvwJc73BZkKAAAfgS9VB7vXW3WlMcPFv26I681XbYObdtwS5W+3hCjTOzgd7muXd+AtSubpmMHp0MmUPxscriVmNM1x5muL70l9VBQzOF0fA/p6PXe8vl6Jyb/1IizcbulvJ5aodaCnixX0iicfHECULKa9I/Wikyl/9n1cS8zAl+gzQ3LLOhdrSfgIfKk62J0fHA8zd49Lltr7PlVtg5siNLn+9jO367L53sHpnjQHuaSXfjeVMYPT9TM9TLrdLpnvHU2zpIhRgJIHYUe93sHpcFOb5K5JR/mY+fQVXoSFJtefvOEhQOrSQ56ENfMu9u4j7yHeTaV34EvcjqPqM8OiyzvwZSTCPkTkt3lbhPNTH4EvVQe7M2FlZWXNnDlT9JJcXFy8evXqbt26LViwgNcvpIRqG9yqEXzSByV7BKcrLWEzuz4cJ1jq7B2cDpd4Xsyx3KR86h1NE9/nY1ppxdT61lPsk9DNwgP90PtwnGDR+0w9L8LCSZ9S6TAQFuH8dJDBduc4Hrg0/KDLVcdb3DI9CAuXhidd4narbL534EucK3gjX1aaWzkfgS9VB7sz3hcuXJg9e/bNN9985ZVX/vnPf27QoEG9evX69Onz+eefu9VVY75qGxxV454M35acokyP4HS48SqIkRdX5BFNE+PQ+Lbk5Cq8o2mONV8Vg9h/oCIMTudGWL3cKYDXUybxTIorYf1yll0KYuTFK+BBWLjfy7clJ1eBgS/d7E5xU2cQIy9UhIEv3WqL+718G3nxtvgIfKk62J0Ji9egpKTk8OHDVewoWbUNvLZiAh31+nCRIQrBtAdh5ZuDXDIqp12ymOMRTbNvgJ3bogqPaJrFF9ggl48YJoq1pHFPpSO9ohu5BQMsd/g5xe1WjndiWO8NbzteVMsc7E6vM7LZ96CMU4qYKvPcd8MMM3duB/weBKgMfDncoS74Peh757Yo0UfgS9XBHoOwxNpUWVq1DY4V6296Q3a8pJrpFk0TjQBkthnKaHQL8ImbKubmyciIUcYjmiaa/H0ssS86hg4AfClw3L6HLs9VvSE7asSXAsdLI00fLP7cM1gEDnZZH0AjAJl90RaBjqdugS9Pn2Cc+PQVjjepZWLgS0d3u2hOvHSimkDH0j4CX6oO9sQkLFwTCWjpw7vELTgdvgB/+BIvGCjh5lQAt+8GMefj1cKvGEenAmPMnS4BjQBQEYbzcfTh29NzDpvXUyaBrmnsJdEIIMh+AFHmEBfCwo/rgEYAXJEbYeFsYJD9AFwFBr50XNB8JoXRYhArQq7FR+BLIiyGHno42bmJIxko4UZYE8zvQX+OOOwVcoum2U/T9yAz4t3CpsPt/ipxfVDL9yAAYOgKuwUGuuvT8j0IAH+7jg0z+4FOL7V8DwKwkDl9nLSguz5/Tn7sdXaL1Dvc/B70vbNPVISBL+2+cPF7cKhTG8XbJdM+Al/qJKypU6f+9NNPknXVWEy1DXbVQwLv/BBlOkbTLC9nnl4C2ouKWhwd7GKIlID2olyLWzRNfJMPaC/KtaDd0Pe25Rl05+RhUMolyCTQbshesuJVMfD6IEoe6kJYvXTYi/LKOwa+/OUsY+SA9qJcBQa+/PsgnlGRwFmCILvKRIlok6jkvFt1sHtR6xNPPJGamnrrrbc+//zzR44cEWsWalq1DZbK4EqwUrBiiwTLqWM0Tfzyl3SSbRHoeOoYTRM9HwQ3JUONSFjLp1n1YyDFgKZkXKhbNM0BOkzJuBZHwkIrE9UYa1ymPeFIWDirGNyUjKtzJCz0fLDuH7xUoIRbpF6cVQxuSoaV8xGpV3WwexEWVuLLL78cM2ZM48aNs7OzA2EmfbNqGyyCMThaQMtgUaZjcLppt7AfwOArwVxRJwPs0TQf1rG1iKvA8L//nMozWCISYdH0fATaipIinDhG0ywsYHD5CLQlCI5KTrvR4ZMQAy/6dgoYpcA8Ger0PY4L0I6rCnYJMjmOkXoxyFNwKxOsgFukXi27DngbVSP16oyawytRUFAwc+bMm2++OT09nWeGmghIWLiJTMsiETbTkbB6SHhKUkLJHk3z/Bk2JifF/k2R1YORuyzuutH8PbjRIK+EYzRNNH//8iNeKmgCfzAsUtBp1Fl90cofdiKsgWYkN4vqIKf2SL24QdVfEBDHmpw+waYvLaEAcINqcINkrlE1Uq9mwpo9e3ZWVlZqamp+fv6OHTt4tcJOBCEsvfPH2FJ7cDp06a9r/hi12KNpoodsf5EgHPvohy/YU2sJTvf83YwWJaNyOYq1ZDpG03xE3/wxqsNQg6JqjfZEXOzDts9YdFhkfxfmt/hI2AkLve9b3oV9SOa3YKReS+BLXJvarS8wlmqkXs2ENXr06O3bt/M2V1kiCGGh6Zqu+WNssp2wXunHRr4WUwOOKiOsNH7GEo+bq5BaTA1QLtptWubdeuszNUAtaLcpRtMsOq/N9JwDNL016wLxwDXQ1x8V84Kmh9kIC402tn4QVLJ4vz2OHK6BajE1QEUYqdcy76Z3bQoAlCL1YsVUB3t0n4soVl9atQ1iTSfqMz3nYu2xnh7UZ5XKtViiaZaVsl2Kj2ntHzQsEIPT4S7FeV15LTQk7NE00U2STHgxefUzsq2Eha6pjuyXlxG75HAbYY0yrVKDm56Luu2E1V0uvJgoxDuNkXpfEgJfopfqZ3R6IwelSL1YYdXBrnVAeGMmfVW1DVwwfhRonD9GyRbCOnmEfUM9l8nV6klYomnij5Wjkadvfegp4a2nLgrA+LJ2m6mLJdRT9uB0uIEpoNcaS0VmtGGEJdoo9XUx8rTcqHQ6PPqXCSccgnutsdTBEvgSX4QdjTwtN8qf2gNf4pf7xuXyMmKXxMCXaxfHLslLqA72hCIsnFQOEnSA4ygmLMHp0DAyiKtiUThPW6Jp4rL9mZP8uoaEPZomfhRoEC2IsASnw1VIjQZrqGrmXVGEdfwQO9VlsMZb80g0YaFhpN4JBwDm2kV8lV4wgLVFl8EatsUe+PJx3NugyWANtVQEvnyd4xc7kdSEhT394+7YMCmVsASnG2v2tMZVSKyMJZpmL92rkABs0i3HAL5r7MI5zauQ2BBLcDrcD6RxFRK1PH83awv/NMMNjBpXIVHLI9ELgriB8dxpvKjtf0uk3sGmL2xt0k1BlsCXkQgze9a4Com1xcCXSjtSk5qwBkc/Xrq6XAxOhwbuwR1g2euWawCPponu1l7MtZcKlGOJpol7IYM7wLLUyRKc7qWejFm0bHgWFc1qx8Tynw00cOf8JZYMkh4R/UT1lAhT6EOdSFj4K8KfBB/SHG+xBL7EvZBvTnAs6z8TA1/GjNQrKkhewsKtDFq2touAWqJpotUSf0mxlAxyKhIWWi19sz6IPId7LdE00Wrp/BmHkkGy0ET763UVMh6K/qoKIlm8d1Z7Rljooq+8XP8CBeoaKRAWWi3pXaBALd0EH5DotFPvAgUAVAS+rPwJxDCaehcoAAADXyr9BCYvYaHDTF1bGcSxIQanQ4eZRw+I1/WkxfC/j5pLUeKMshYdlmiaPXQvRWEl0VPNVx+zM/Sd8GxjLdWPEoJ7StDmAx1mWsw1okr7PREJC6MB6domJdZIDHyJsRS1eFgTVWDgS24j+qBt9VMs7DstE/jSIjx5CQsNGnT5ThBhfVCYTtK7IU7UwsP/okFDcN/qonBMi9E0kbwsloT2W3zkYHwtnE7C9PqlPsTEuOWFDuwNC3euYFqj7SvXPUqYTkI3W9p/RQBAJKzuBnMRof3AwJdzOjLBaNAwJUO7EqnAlxatyUtY3QzQ5SXDgikPTnemkM1S67Vy5ro6VwZ8xfdq+xZlXtJ3QoymufgxNuA1WjnzWqHVFcaCxF8RvQYNqAitrlDyABefCrxKvhOcsEpLtHlktVeGR+rFScYFA+1FguZg4MsXOjA5OMmoywOPWLOYgS/FwphOUsJCCyNHh4p2jFRzeHA6XLBX8p4hr4sHp8O9MidD8I4hRtPUvleGtxS/zTGaZjcDHg7hfQEA8Nu86Dzgr0jwYG68/mLi0co3LFywt7sSEwv7TvNIvbhXxu6Zx7dkfiMGvkSXlhjnSde2aq4CAGIGvhQLYzpJCQsNIN0CH9hhUsrhhIUe+8LoaQA2bYzOj/qFYACJ7cVp48WPsTDuuQZoN4BELRic7vNVEOqvyIu57A3xwjlAO1WNzjnEZ2O06VgNANBjn0bnHKIWHql3uFbnHKKKisCX7ZmpbVetzjlELTEDX4qFMZ2khIU9bYdDSw4Gp8OeHh7O+wIS1v+Y/mo6GaAl2I+97TyaJprRvz/HXkRDDq5zbfsQQv0VwXWuX84y2s01GAWHcXDC6usejSK4XozUi78ibuFzAmrBwJez2gGa0buFzwmoxTvwpaPwZCSsstIQ3xcAAAkLzcQXOcUdcewJ1UwMTofvC1veU71bqjyPpokRQDXurRXVVwSn+wBC/RXBePfnz7D3hfB+RR4z37AwGMSMNmIrdaYxUi9+dWp05iVWEQNfPn83YHRhx5hGYnl/aQx8+cE8hbuTkbBwqi+MWWoEHoPTofPPMOYXUAsSFs5Sh/TViYT1vyMgvFlqAEDC2ryC/YqMD+2FFAkLPTTYPf8qjBjPoo+Z32hoWRbS3CUAYKReNNQIY+4S3TRi4MuRuv38iPh5R+oVS/J0MhIWfh1oiRDHcRQTSFgh2UZxRXkGTDDNFMNY1UYtGP73pZ5srTOMVW3Uggb0CwezOSaLs0De2OAJDCaEWnRFG7HXaoxJWGgbFcZaJ2pEwhoYjm0UbxQLfJnNpkrDsJhBLd6RenlNxEQyElZIO3I4rBicLi96hyq/qiuRZ06F5hgQhi01VhLD/w43GJVot6XmOKBLMtQShoUtKsIdP8PNfZ1h2EahFiSsXgabFgjv6GXAYIP9iuh19mKpcI757SxuJrUUCH7qEanXTXjSEVZJUSg7eEV8B5vTujkG/GO8mK05nVepRfsOXl5RdGmQa44N7Tt4uRaMwZNbaRDA8/UmMAZPbgg7eMV6jq3sFDS5FC9pTPeq1PJ/CzRKtYrqVKnlp++tl3Sde0TqdVORdISFXll1RTN1hHWI+UrCXIx+53hdT2aeqSVX2NCrR64gBcP/5uh2MSpoYEmMppljgK5ophb5ePpyX/aemGOAXhejFl1jK7teSzRTi3B+2svU0skAvd6EuHxMdDK1dAvzVdEjUq+lMvw06Qgr1AUvhBUJq2uYPQ3A3H3khGYggw3B8L84l8GfGO0JdBqVY8CKWdplXxSIXqpzDNAYveai9MrU42anhGc2gXp6m1r6hvyAIWGFZHyHDXGL1FsJp8PfGkRYM2fObNy4cWpq6siRIwFg3759v/rVrzLMo3///g51r8xSakOoC15Yo6Hm86QrMHJlK61/u5hawtiWwTVh+N8cAzYs43n6ExicLseAwgL9wrlE9H3WJdrpKL+qKzHO7JSQtnzxSiJhTbuRZ4SSQMIKbzEdgO30yjHg3ekK9Vca7AAQFquvWbMmOzu7qKgIAI4ePYqElZYWHWXBpV3ybcBAWH+7zkWQpmwkrDCcAYgVRMISYzeIV7WkMZpmJ4M5GwnvwOB0vcJ6sioqvmAgGxsaY6Y6AoKEZYnd4FgySGYfkxbDcDQi1goJK7zFdEZY21inPKHS9fKDHduiIltsfax0x44dV61aJZbat2+fdsLCOGhKPqTFKkmmHzafp4K9ksV9FutiLnhpd0En1gajaQ4Mq88rVGGnaHdBJzYEADCa6ZtPWrI1n443u5779tIsvVJcH3MZRFfk7Uqp1r+dBN9e1muazpGwOqk8YDWFsDIyMsaPH9+yZcvMzMzNmzfjG9ZvfvObZs2aZWZmrltX6d7NCSmlNhw9AOEZyGDtRoff0wDQw4DRKj3thFyMPPRxODcvRrGAl3F/hpLbSR8a33ySrQ6Ht+CFVXr6Cja3yP2a+qinzC0Dw3FkalHdWXBpa7mk6xR3gyj9VikNdj2fhNnZ2WnRx7Jly9LS0gYNGhSJRDZt2tSgQYNIJFJUVHTixAkA2Lp1a926dU+ftnrGnjt3bgvzqFdPa+yhwL1x/JB+D7/2Sh34Tmfge7t8zPluY4UPKbcCwfMjEfh6XVQ8m+Ay7RKKL8CuLfZszTk/H9ccfdKxfgV7IdQvNVT6wxfMn2LYx9efXHS0L6OrGgjLsVp33nnnmjVr8FLDhg2PHTsmFsvKytqyxfVxU22DKJnShAAhEEcIqA72sD5C5syZM27cOADYtWtX3bp1I5HIsWPHysrKAGDPnj1XXXVVYWGhG6yqbXCTQ/mEACFQwxFQHexhEVZxcXFeXl5aWlrz5s1Xr14NAEuXLk1NTc3IyGjevPny5V7xG1XbUMO7hKpHCBACbgioDvawCMutfjL5qm2QkUllCAFCoAYioDrYibBqYCdSlQiBZEGACCtZepraSQgkAAJEWAnQidQEQiBZEEgEwqpVqxYaZEn+X79+fcmSNadYPNa5RYsWVO2qfISSAe1atWopcXNNnMNSagAAqJK0qvwwysdjneMUaqp2GA+wh8xQn20iLA/kQ7wUaqeGV2+qdnjY2iUT2nZMiLDsmFRFDj2LVYFypQ5CuxKJqvgbKtqJQFhz586tin7QqiMe6wwAVG2tT0EMYYS2HaBEICx7qyiHECAEEhIBIqyE7FZqFCGQmAgQYSVmv1KrCIGERCC+Cev9999v1KhRSkrK5MmTa3j3HDx4sFWrVn/+859TU1OnT2derwsLC++4445rrrnmjjvuOHnyZE2uf1lZWbNmzdq2bQsAe/fubdmyZUpKyn//938XFxfX2GqfOnWqQ4cOjRs3/tOf/rRhw4Z4QXvatGmpqalpaWmdOnW6cOFCTUa7Z8+ev//977kbYTvCkUhk8ODBKSkp6enp27Zt0/KoxDFhlZWVNWzYcM+ePcXFxU2bNt2xY4cWREIScvjwYeyzM2fOXHvttTt27Bg5ciTy7OTJk0eNGhWSXi1ip06dmpubi4TVsWPHxYsXA0D//v1feOEFLfLDENKtW7eXXnoJAIqLi0+dOhUXaP/0008NGjT45ZdfAKBjx44LFiyoyWivXbt227ZtnLDsCK9YseKuu+6KRCKfffZZy5YttfRyHBPWhg0b2rRpgyhMMg8tiFSBkHvuuefDDz9s1KjR4cOHAeDw4cONGjWqAr3+VPz444+333776tWr27ZtG4lELr/88tLSUgAQ8fcnOby7fv75Z/Rzy1XEBdo//fRT3bp1CwsLS0tL27Ztu3LlyhqOthiowY5wv379Xn/9dewCfpX3iL9EHBPWm2++2bt3b2z2q6+++tBDD/mDoIrv2rdv3x//+MfTp09fdtllqDoSifB0FVdGRl2HDh22bt360UcftW3b9vjx4ykpKXjXwYMH+a+rjJyqLLN9+/Ybbrihe/fuzZo1692797lz5zjCNRzt6dOnX3rppbVq1ercuXPNR1skLDvCbdu2/eSTT7Dfb7/9dg8nw/LPBhGWPFYaSp49e/a666576623AIB3MAD89re/1SA9BBHvvvvugw8+CADxRVhbtmz5t3/7t40bNwLAkCFDHn/88bhA++TJk61btz527FhJSUn79u0XLVpUw38eHAmLP89EWFEjUvwkiYtPwpKSkjZt2kydOhWbwV+Sa/In4ejRo+vUqVO/fv3atWv/+te/7ty5cw3/SEFsCwoK6tevj+l169bdfffdcYH2G2+80atXL6z2woULBwwYUMPRFgnLjjB9EmJXVvxfWlp69dVX7927Fyfdv/nmm6jLNewkEol07dp16NChvF4jRozgk+4YHJtfqoEJfMMCgAceeIBPus+ePbsGVhWrdOutt+7cuRMA8vPzR5hHzUd748aNqamp58+fj0Qi3bp1mzlzZg1HWyQs+/P8r3/9i0+633DDDVoelTj+JASAFStWXHvttQ0bNpw4caIWOMIT8sknnxiGkZ6enmEeK1asOHHixO23337NNddkZ2d7hOQIr0pKkjlh7dmz54YbbkhJSXnggQcwsreSnCorvH379hYtWqSnp7dv3/7kyZPxgvb48eMbN26clpbWpUuXoqKimox2p06drrjiin//93+vU6fO/Pnz7QhHIpGBAwc2bNiwSZMmWiaw9MQlrLJHkBQRAoRAkiMQ329YSd551HxCINkQIMJKth6n9hICcYwAEVYcdx5VnRBINgSIsJKtx6m9hEAcI0CEFcedR1UnBJINASKsZOtxze09ceIEGmrUrl37qquuysjIuPTSS9E4Poim5557buHChaoScnJydu/erXoXlY8jBIiw4qizanRV8/Pzp0yZoqWKpaWl6enpuMVaSeDHH3/cp08fpVuocHwhQIQVX/1Vc2vLCYubmObn53fr1u3WW2+tV6/eW2+9NXLkyCZNmtx5550lJSUAsHXr1szMzOuuu65NmzbotYK37YMPPujevTueZmVlPfzwwy1atPjTn/60efPm++6775prrhk7diwAnDt37u67727atGlaWtqSJUsAoLy8vEGDBj6YjqumRA1H5UOq9wAAAidJREFUgAirhndQ3FTPkbBuueWWkpKSL7744te//vV7770HAPfee+8777xTUlJy0003HTt2DACWLFnSs2dPsZ3jx4+fOXMm5mRlZaGzsOnTp1955ZWHDx8uKiqqU6fOiRMnli5dyt+nfv75Zyx/xx13bN26VZRG6URCgAgrkXqzOtviSFi4Zaq8vPySSy6JRCIAMG7cuOeee+7rr7/+j//4D5z8atKkyV//+lex6n379sXtigCQlZW1fv16AFi9evUdd9yBxW677bbt27fv2rWrfv36o0aNWrduHb+9c+fOy5cv56eUSDAEiLASrEOrrTmOhMVntS699FKsGRb76quvbrzxRre6DhkyZMGCBXg1KysLt6HxL01kMcwsLCxctGhRZmbmhAkTsPz999+/atUqN8mUH+8IEGHFew/WlPorEVZxcXFKSsqGDRsAoKSkxOJpY86cOThLJXKTnbAOHTp04cIFAHj33Xfbt2+PQDRp0qSgoKCmgEL10I0AEZZuRJNVnhJhAcD27dtvu+22pk2bpqamzps3T4Rt//79t912G+Z4vGGtXLkSvV9cf/31+MJ15MgRXW5MxPpQuuYgQIRVc/qCanIRgXvvvdeHRdW0adPmz59/UQqlEg4BIqyE69KEaNDOnTvXrl2r2pRXXnmFbBpUQYuv8kRY8dVfVFtCIKkRIMJK6u6nxhMC8YUAEVZ89RfVlhBIagSIsJK6+6nxhEB8IfD/AY0GD9n/ii3bAAAAAElFTkSuQmCC)"
      ]
    }
  ]
}
