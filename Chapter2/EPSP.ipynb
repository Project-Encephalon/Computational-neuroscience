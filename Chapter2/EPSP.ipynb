{
 "cells": [
  {
   "cell_type": "markdown",
   "metadata": {},
   "source": [
    "# Simulating an EPSP \n",
    "(EPSP - Excitatory Post Synatic Potential)"
   ]
  },
  {
   "cell_type": "code",
   "execution_count": 1,
   "metadata": {},
   "outputs": [],
   "source": [
    "#Synaptic conductance model to simulate an EPSP\n",
    "import numpy as np\n",
    "import matplotlib.pyplot as plt"
   ]
  },
  {
   "cell_type": "code",
   "execution_count": 2,
   "metadata": {},
   "outputs": [],
   "source": [
    "#specify constants\n",
    "c_m=1\n",
    "g_L=1\n",
    "tau_syn=1\n",
    "E_syn=10\n",
    "delta_t = 0.01"
   ]
  },
  {
   "cell_type": "code",
   "execution_count": 31,
   "metadata": {},
   "outputs": [],
   "source": [
    "# create our data arrays.\n",
    "t = np.arange(0, 10, delta_t, dtype= \"float16\")\n",
    "g_syn=np.zeros((t.shape), dtype = \"float16\")\n",
    "I_syn=np.zeros((t.shape), dtype = \"float16\")\n",
    "v_m=np.zeros((t.shape), dtype = \"float16\")"
   ]
  },
  {
   "cell_type": "code",
   "execution_count": 44,
   "metadata": {},
   "outputs": [],
   "source": [
    "#run through time to get values for each parameter.\n",
    "for i, val in enumerate(t):\n",
    "    if(val < 2.0):\n",
    "        g_syn[i] = 0\n",
    "        I_syn[i] = 0\n",
    "        v_m[i] = 0\n",
    "        \n",
    "    #hardcoding the  spike\n",
    "    elif(val == 2.0):\n",
    "        g_syn[i] = 1\n",
    "    # the exponential decay\n",
    "    else:\n",
    "        g_syn[i] = g_syn[i-1] - (delta_t/tau_syn * g_syn[i-1])\n",
    "        I_syn[i] = g_syn[i] * (v_m[i-1] - E_syn)\n",
    "        v_m[i] = v_m[i-1] - delta_t/c_m * g_L * v_m[i-1] - delta_t/c_m * I_syn[i]"
   ]
  },
  {
   "cell_type": "code",
   "execution_count": 46,
   "metadata": {},
   "outputs": [
    {
     "data": {
      "text/plain": [
       "Text(0.5, 0, 'time(s)')"
      ]
     },
     "execution_count": 46,
     "metadata": {},
     "output_type": "execute_result"
    },
    {
     "data": {
      "image/png": "[encoded data removed]",
      "text/plain": [
       "<Figure size 432x288 with 1 Axes>"
      ]
     },
     "metadata": {
      "needs_background": "light"
     },
     "output_type": "display_data"
    }
   ],
   "source": [
    "%matplotlib inline\n",
    "\n",
    "plt.plot(t, g_syn*5, \"--r\", label=\"g_sync\")\n",
    "plt.plot(t, I_syn/5, \":k\", label= \"I_sync\")\n",
    "plt.plot(t, v_m, \"b\", label= \"v_m\")\n",
    "\n",
    "plt.legend()\n",
    "\n",
    "plt.title(\"Time course of variables\")\n",
    "plt.xlabel(\"time(s)\")\n"
   ]
  },
  {
   "cell_type": "code",
   "execution_count": null,
   "metadata": {},
   "outputs": [],
   "source": []
  }
 ],
 "metadata": {
  "kernelspec": {
   "display_name": "Python 3",
   "language": "python",
   "name": "python3"
  },
  "language_info": {
   "codemirror_mode": {
    "name": "ipython",
    "version": 3
   },
   "file_extension": ".py",
   "mimetype": "text/x-python",
   "name": "python",
   "nbconvert_exporter": "python",
   "pygments_lexer": "ipython3",
   "version": "3.8.3"
  }
 },
 "nbformat": 4,
 "nbformat_minor": 4
}
