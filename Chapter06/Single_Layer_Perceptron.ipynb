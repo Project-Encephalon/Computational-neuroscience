{
  "nbformat": 4,
  "nbformat_minor": 0,
  "metadata": {
    "colab": {
      "name": "Single Layer Perceptron.ipynb",
      "provenance": [],
      "collapsed_sections": []
    },
    "kernelspec": {
      "name": "python3",
      "display_name": "Python 3"
    },
    "language_info": {
      "name": "python"
    }
  },
  "cells": [
    {
      "cell_type": "code",
      "metadata": {
        "id": "cYsLR1n30jGi"
      },
      "source": [
        "%matplotlib inline\n",
        "import numpy as np\n",
        "import matplotlib.pyplot as plt\n",
        "from matplotlib.ticker import MaxNLocator\n",
        "from statistics import *"
      ],
      "execution_count": 318,
      "outputs": []
    },
    {
      "cell_type": "markdown",
      "metadata": {
        "id": "zW2-D7Un_7_z"
      },
      "source": [
        "# Training\n",
        "\n",
        "Letter Recognition with Threshold Perceptron"
      ]
    },
    {
      "cell_type": "markdown",
      "metadata": {
        "id": "jgxmMsJc1vJC"
      },
      "source": [
        "1. Import the Dataset"
      ]
    },
    {
      "cell_type": "code",
      "metadata": {
        "id": "iXpxwDKJ3Chm"
      },
      "source": [
        "pattern = np.loadtxt(\"pattern1.txt\", dtype=int)"
      ],
      "execution_count": 319,
      "outputs": []
    },
    {
      "cell_type": "markdown",
      "metadata": {
        "id": "Xd_QGkxr1yGa"
      },
      "source": [
        "2. Set Variables"
      ]
    },
    {
      "cell_type": "code",
      "metadata": {
        "id": "gVrvDm6Y4CWo"
      },
      "source": [
        "# number of input and output channels\n",
        "nIn = 12*13\n",
        "nOut = 26\n",
        "# random initial weight matrix\n",
        "wOut = np.random.rand(nOut,nIn) - 0.5"
      ],
      "execution_count": 320,
      "outputs": []
    },
    {
      "cell_type": "markdown",
      "metadata": {
        "id": "CN6buzgU1-dS"
      },
      "source": [
        "3. Train Vectors"
      ]
    },
    {
      "cell_type": "code",
      "metadata": {
        "id": "lx0iGQms4LLg"
      },
      "source": [
        "# matrix of input pattern\n",
        "rIn = np.reshape(np.transpose(pattern), (nIn, 26))\n",
        "# matrix of desired outputs\n",
        "rDes = np.identity(26)"
      ],
      "execution_count": 321,
      "outputs": []
    },
    {
      "cell_type": "markdown",
      "metadata": {
        "id": "SBt0dmfQ2D7A"
      },
      "source": [
        "4. Update and Train Vectors"
      ]
    },
    {
      "cell_type": "code",
      "metadata": {
        "id": "-sP8sJEZ6KHg"
      },
      "source": [
        "# error array\n",
        "error = []\n",
        "for training_step in range(20):\n",
        "  # test all pattern\n",
        "  # threshold activation function\n",
        "  rOut = np.matmul(wOut,rIn)>0\n",
        "  dist = sum(sum(abs(rDes - rOut)))/26\n",
        "  error.append(dist)\n",
        "  # training with delta rule\n",
        "  wOut = wOut + 0.1*np.matmul((rDes-rOut),np.transpose(rIn))"
      ],
      "execution_count": 322,
      "outputs": []
    },
    {
      "cell_type": "markdown",
      "metadata": {
        "id": "jEKGJ6Qr2Gg7"
      },
      "source": [
        "5. Plot the Results"
      ]
    },
    {
      "cell_type": "code",
      "metadata": {
        "colab": {
          "base_uri": "https://localhost:8080/",
          "height": 295
        },
        "id": "k_jV02gn8nY0",
        "outputId": "6dcfb989-c917-4699-d487-7e9ffa8ba5e1"
      },
      "source": [
        "plt.plot(range(1,21),error)\n",
        "plt.xlabel('Training step')\n",
        "plt.ylabel('Average number of wrong bits')\n",
        "plt.title(\"Letter recognition with threshold perceptron\")\n",
        "plt.xticks(range(1,21))\n",
        "plt.show()"
      ],
      "execution_count": 323,
      "outputs": [
        {
          "output_type": "display_data",
          "data": {
            "image/png": "[encoded data removed]",
            "text/plain": [
              "<Figure size 432x288 with 1 Axes>"
            ]
          },
          "metadata": {
            "tags": [],
            "needs_background": "light"
          }
        }
      ]
    },
    {
      "cell_type": "markdown",
      "metadata": {
        "id": "_njAU9lWAAa2"
      },
      "source": [
        "# Testing\n",
        "\n",
        "Testing Generalization of Performance of Trained Perceptron"
      ]
    },
    {
      "cell_type": "markdown",
      "metadata": {
        "id": "HaQi8ybsA16I"
      },
      "source": [
        "1. Import Dataset"
      ]
    },
    {
      "cell_type": "code",
      "metadata": {
        "id": "GnXxS1hXBC1g"
      },
      "source": [
        "letterMatrix = rIn"
      ],
      "execution_count": 324,
      "outputs": []
    },
    {
      "cell_type": "markdown",
      "metadata": {
        "id": "nVfbytcVBjSO"
      },
      "source": [
        "2. Define randomFlipMatrix Function"
      ]
    },
    {
      "cell_type": "code",
      "metadata": {
        "id": "2VDQeMjKBseb"
      },
      "source": [
        "def randomFlipMatrix(n):\n",
        "  r = np.zeros((156,26))\n",
        "  for i in range(26):\n",
        "    x = np.random.permutation(156)\n",
        "    r[x[1:n],i] = 1\n",
        "  return r"
      ],
      "execution_count": 325,
      "outputs": []
    },
    {
      "cell_type": "markdown",
      "metadata": {
        "id": "9PQnKGY0A61R"
      },
      "source": [
        "3. Flip random bits and test the perceptron"
      ]
    },
    {
      "cell_type": "code",
      "metadata": {
        "id": "dfLhu56rBOvh"
      },
      "source": [
        "meanDist1=[]\n",
        "meanDist2=[]\n",
        "stdDist1=[]\n",
        "stdDist2=[]\n",
        "for nflip in range(80):\n",
        "  dist1 = []\n",
        "  dist2 = []\n",
        "  for trial in range(10):\n",
        "    rIn = abs(letterMatrix - randomFlipMatrix(nflip))\n",
        "    # Threshold output Function\n",
        "    rOut1 = np.matmul(wOut,rIn)>0\n",
        "    nerror = 0\n",
        "    for j in range(26):\n",
        "      nerror = nerror + (sum(rDes[:,j]!=rOut1[:,j])>0)\n",
        "    dist1.append(int(nerror))\n",
        "    # max output function\n",
        "    A = np.matmul(wOut,rIn)\n",
        "    [v,i] = A.max(axis=1),A.argmax(axis=1)\n",
        "    rOut2 = np.zeros((26,26))\n",
        "    for j in range(26):\n",
        "      rOut2[i[j],j]=1\n",
        "    dist2.append(0.5*sum(sum(rDes!=rOut2)))\n",
        "  meanDist1.append(mean(dist1))\n",
        "  meanDist2.append(mean(dist2))\n",
        "  stdDist1.append(stdev(dist1))\n",
        "  stdDist2.append(stdev(dist2))"
      ],
      "execution_count": 326,
      "outputs": []
    },
    {
      "cell_type": "markdown",
      "metadata": {
        "id": "IxxDxG0FBBId"
      },
      "source": [
        "4. Plot the results"
      ]
    },
    {
      "cell_type": "code",
      "metadata": {
        "colab": {
          "base_uri": "https://localhost:8080/",
          "height": 295
        },
        "id": "z2cjelfbK7n2",
        "outputId": "438fbf71-5813-495d-92b6-4693014e0c21"
      },
      "source": [
        "plt.errorbar(range(80),meanDist1,yerr=stdDist1,capsize=4,label=\"Threshold Activation Function\")\n",
        "plt.errorbar(range(80),meanDist2,yerr=stdDist2,capsize=4,label=\"Max Output Function\")\n",
        "\n",
        "plt.title(\"Generalization Ability\")\n",
        "plt.xlabel(\"Number of Flipped Bits\")\n",
        "plt.ylabel(\"Average Number of Wrong Letters\")\n",
        "plt.legend()\n",
        "plt.show()"
      ],
      "execution_count": 327,
      "outputs": [
        {
          "output_type": "display_data",
          "data": {
            "image/png": "[encoded data removed]",
            "text/plain": [
              "<Figure size 432x288 with 1 Axes>"
            ]
          },
          "metadata": {
            "tags": [],
            "needs_background": "light"
          }
        }
      ]
    }
  ]
}