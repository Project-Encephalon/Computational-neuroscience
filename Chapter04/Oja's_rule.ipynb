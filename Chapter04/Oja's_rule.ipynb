{
  "nbformat": 4,
  "nbformat_minor": 0,
  "metadata": {
    "colab": {
      "name": "Oja's rule",
      "provenance": []
    },
    "kernelspec": {
      "name": "python3",
      "display_name": "Python 3"
    },
    "language_info": {
      "name": "python"
    }
  },
  "cells": [
    {
      "cell_type": "markdown",
      "metadata": {
        "id": "nqqeC8CaL0e3"
      },
      "source": [
        "# Oja's Rule\n",
        "\n",
        "\n",
        "---\n",
        "*  Formulated by Dr. Erkki Oja in 1982\n",
        "* Oja's learning rule is a mathematical formalization of the Hebbian learning rule, such that over time the neuron actually learns to compute a principal component of its input stream. \n",
        "*   Oja's rule is the solution of the major limitation that is posed in Hebbian rule i.e there is no such parameter in Hebbian rule that limits the growth of the weighted values over time. So, in result the value of weight is bound to reach large hypothetical values.\n",
        "* In order to put a control in the growth of weighted values, a equation is subtracted from the Hebbian rule to limit the growth of neural connection. That equation or term is known as \"The Forgetting Term\".\n",
        "* Dr. Oja suggested that \"The Forgetting Term\" should be proportional to both the output of Hebbian rule and the corresponding weight.\n",
        "\n",
        "\n",
        "\n",
        "\n",
        "\n",
        "The following code is an example of using an associative node with Hebbian learning and weight decay(Oja's Rule) to perform PCA.\n",
        "\n",
        "\n",
        "\n"
      ]
    },
    {
      "cell_type": "markdown",
      "metadata": {
        "id": "plmZl2kcL2Pa"
      },
      "source": [
        "### Simulation\n",
        "\n",
        "---\n",
        "\n",
        "* First, we will import necessary libraries that we will be using in the following simulation.\n",
        "\n",
        "* We have used **math** module for some universal mathematical constants. **Numpy** is used for basic mathematical and array operations. **Matplotlib** library is used for plotting the various outputs of this simulation."
      ]
    },
    {
      "cell_type": "code",
      "metadata": {
        "id": "7HhS_Q0Fl9Ug"
      },
      "source": [
        "#Linear associator with Hebb and weight decay: PCA a la Oja\n",
        "\n",
        "import numpy as np\n",
        "import math\n",
        "import matplotlib.pyplot as plt\n"
      ],
      "execution_count": 1,
      "outputs": []
    },
    {
      "cell_type": "markdown",
      "metadata": {
        "id": "ECDJ080XSFEF"
      },
      "source": [
        "\n",
        "\n",
        "*   **a** is the rotation angle here which is 30°. We will be rotating our data points by 30° with respect to x-axis.\n",
        "*   **w** is the arbitary initial weight matrix.\n",
        "* **rot** is the rotation matrix. It will be used to generate training examples\n",
        "* **w_traj** is the data bin where we will be storing the trajected values of weight that will be generated in the later parts of the code.\n",
        "\n"
      ]
    },
    {
      "cell_type": "code",
      "metadata": {
        "id": "FTpTb1lp2Kc6"
      },
      "source": [
        "a=-math.pi/6 \n",
        "w=np.array([[0.1],[0.4]])                                                       #(arbitrary) starting value\n",
        "rot=np.array([[math.cos(a),math.sin(a)],[-math.sin(a),math.cos(a)]])            #rotation matrix\n",
        "w_traj=np.zeros((2, 1000), dtype = \"float64\")                                   #data bin for the trajectory"
      ],
      "execution_count": 2,
      "outputs": []
    },
    {
      "cell_type": "markdown",
      "metadata": {
        "id": "fuZJl6GLU0dF"
      },
      "source": [
        "\n",
        "\n",
        "*   The training is done over 1000 training examples in a **for** loop.\n",
        "* **rand** generates random gaussian data points in a 2-D matrix.\n",
        "*   In each of the iteration, a new training point is generated and stored in **rPre**. To make the data evenly spread out, we have formulated the data points with standard deviation of 4 in one specified direction (i.e 30° with x-axis) and standard deviation of 1 in other remaning direction.\n",
        "* The new data points generated in **rPre** are plotted.\n",
        "* The postsynaptic value is calculated and stored in **rPost**. These post-synaptic values will be used in Oja's learning rule with learning rate of 0.1.\n",
        "* We, then, store the weighted values in **w_traj** and plot the weight trajectory.\n",
        "* The trajectory of the weights is plotted with a red line, while the\n",
        "end vector of the weight is plotted with a thick dotted black line.\n",
        "                \n",
        "\n",
        "              "
      ]
    },
    {
      "cell_type": "code",
      "metadata": {
        "colab": {
          "base_uri": "https://localhost:8080/",
          "height": 355
        },
        "id": "8T8f7STq2Ld3",
        "outputId": "116488cb-62e5-4da3-d7b9-b89b354bd955"
      },
      "source": [
        "#Training\n",
        "\n",
        "\n",
        "%matplotlib inline\n",
        "for i in range(0,1000):\n",
        "  rand=np.random.normal((2, 1))-1       #Creating a random gaussian distribution\n",
        "  num=np.array([[4],[1]]) \n",
        "  x=[a*b for a,b in zip(rand,num)]      #element wise multiplication of matrix\n",
        "  rPre=0.05*np.array(x)\n",
        "  rPre=np.matmul(rot, rPre)             #training examples               \n",
        "  plt.plot(rPre[0], rPre[1], \".\")       #plot training point\n",
        "  w_t=np.transpose(w)                   #transpose matrix\n",
        "  rPost=np.matmul(w_t, rPre)            #network update\n",
        "  w=w+0.1*rPost*(rPre-rPost*w)          #Hebbian training\n",
        "  w_traj[:,i]=w[:,0]                    #recording of weight history\n",
        "\n",
        "\n",
        "\n",
        "#Plotting the results\n",
        "plt.plot(w_traj[0,:],w_traj[1,:],\"r\")\n",
        "plt.plot([0,w[0]],[0,w[1]],\":k\",linewidth=2)\n",
        "plt.plot([-1,1],[0,0],\"k\")\n",
        "plt.plot([0,0],[-1,1],\"k\")\n",
        "plt.title(\"Training a population node with Oja’s rule\")\n"
      ],
      "execution_count": 3,
      "outputs": [
        {
          "output_type": "stream",
          "text": [
            "/usr/local/lib/python3.7/dist-packages/numpy/core/_asarray.py:136: VisibleDeprecationWarning: Creating an ndarray from ragged nested sequences (which is a list-or-tuple of lists-or-tuples-or ndarrays with different lengths or shapes) is deprecated. If you meant to do this, you must specify 'dtype=object' when creating the ndarray\n",
            "  return array(a, dtype, copy=False, order=order, subok=True)\n"
          ],
          "name": "stderr"
        },
        {
          "output_type": "execute_result",
          "data": {
            "text/plain": [
              "Text(0.5, 1.0, 'Training a population node with Oja’s rule')"
            ]
          },
          "metadata": {
            "tags": []
          },
          "execution_count": 3
        },
        {
          "output_type": "display_data",
          "data": {
            "image/png": "[encoded data removed]",
            "text/plain": [
              "<Figure size 432x288 with 1 Axes>"
            ]
          },
          "metadata": {
            "tags": [],
            "needs_background": "light"
          }
        }
      ]
    },
    {
      "cell_type": "markdown",
      "metadata": {
        "id": "HVtP2l0fP1Ru"
      },
      "source": [
        "References:\n",
        "\n",
        "\n",
        "1.   [Scholarpedia](https://www.scholarpedia.org/article/Oja_learning_rule) \n",
        "2.   Fundamentals of Computational Neuroscience (2nd Edition) by Thomas P. Trappenberg\n",
        "\n"
      ]
    }
  ]
}