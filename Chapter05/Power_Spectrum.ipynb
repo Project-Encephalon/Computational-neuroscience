{
  "nbformat": 4,
  "nbformat_minor": 0,
  "metadata": {
    "colab": {
      "name": "Power Spectrum.ipynb",
      "provenance": []
    },
    "kernelspec": {
      "name": "python3",
      "display_name": "Python 3"
    },
    "language_info": {
      "name": "python"
    }
  },
  "cells": [
    {
      "cell_type": "code",
      "metadata": {
        "id": "7Prw3zbQsEdW"
      },
      "source": [
        "# Power spectrum of Spiking Neurons using Fourier Transform\n",
        "\n",
        " \n",
        "import numpy as np\n",
        "import matplotlib.pyplot as plt\n",
        " \n",
        " \n",
        "#Excitatory neurons    \n",
        "Ne=800               \n",
        "re=np.random.random((Ne, 1))        #to produce variability \n",
        " \n",
        " \n",
        "#Inhibitory neurons\n",
        "Ni=200;\n",
        "ri=np.random.random((Ni, 1))        #to produce variability \n",
        " \n",
        " \n",
        " \n",
        "a=np.concatenate((0.02*np.ones((Ne,1)),0.02+0.08*ri))                                       #Neuronal parameters       \n",
        "b=np.concatenate((0.2*np.ones((Ne,1)),0.25-0.05*ri))                                        #Neuronal parameters\n",
        "c=np.concatenate((-65+(15*np.square(re)),-65*np.ones((Ni,1))))                              #Neuronal parameters\n",
        "d=np.concatenate((8-6*np.square(re),2*np.ones((Ni,1))))                                     #Neuronal parameters\n",
        "S=np.concatenate((0.5*np.random.random((Ne+Ni,Ne)), -np.random.random((Ne+Ni,Ni))), axis=1) #random weight matrix\n",
        "v=-65*np.ones((Ni+Ne,1))                                                                    #Initial values of v\n",
        "u=b*v                                                                                       #Initial values of u\n",
        "y=np.zeros((1,1000))\n",
        "\n",
        " \n",
        " \n",
        "for t in range(0,1000):                                                                                       #1000 ms of network activity in time steps of 1 ms\n",
        "  I=np.concatenate((5*np.random.normal(0, 1, size=(Ne,1)), 2*np.random.normal(0, 1, size=(Ni,1))), axis=0)    # Normally distributed random inputs\n",
        "  spike_index=np.where(v>=30)[0]                                                                              #indices of spikes\n",
        "  f=np.size(spike_index,0) \n",
        "  fired=spike_index[:]                                                                                        #array contaning the indices of all the spikes occured in the time range\n",
        "  \n",
        " \n",
        "  if f!=0:                                                                #condition to proceed if and only if neurons has fired\n",
        "    time=np.transpose(np.array([t+0*fired]))                              #record of time as when the neuron fired\n",
        "    spike=np.transpose(np.array([fired]))                                 #index of places where the neurons fired in the above time range\n",
        "    firings=np.concatenate((time,spike), axis=1)                          #combined record of index and time of when the neurons fired\n",
        "    \n",
        "    i=0\n",
        "    while i<spike.size:\n",
        "      index=int(spike[i])                   #value of index where the firings occured\n",
        "      v[index]=c[index]                     #updating the firing node potential                        \n",
        "      u[index]=u[index]+d[index]            #updating the recovery variable\n",
        "      k=I+S                                 #addition of the input from the spiking neurons to the external input\n",
        "      I=k[:,index].reshape(1000,1)\n",
        "      i+=1\n",
        "\n",
        "    \n",
        "    count=0\n",
        "    if t>=101 and t<=1000:\n",
        "      rep=np.size(firings,0)\n",
        "      count+=rep  \n",
        "      y[0,t]=count                         #counting of numbers of neuron fired except first 100 neurons\n",
        "    \n",
        "  v=v+(0.04*(v*v)+5*v+140-u+I)             #updating according to Euler Scheme\n",
        "  u=u+a*(b*v-u)\n",
        "\n",
        "\n",
        "\n",
        "Y=np.fft.fft(y)/1000                       #Discrete Fourier Transform\n",
        "Y=np.delete(Y,0,1)                         #removal of first component since it is very large\n",
        "N=int(np.size(Y[0,:])/2)\n",
        "Y=np.delete(Y,np.s_[N:999],axis=1)\n",
        "power = np.square(abs(Y))                  #Power is calculated as absolute square of each Fourier component\n",
        "freq = np.arange(1, N+1).reshape(1,499)\n"
      ],
      "execution_count": 2,
      "outputs": []
    },
    {
      "cell_type": "code",
      "metadata": {
        "colab": {
          "base_uri": "https://localhost:8080/",
          "height": 294
        },
        "id": "rHXLQHWquxBz",
        "outputId": "374d147d-2eba-4ace-ee66-a58637936604"
      },
      "source": [
        "#Plotting the results\n",
        "\n",
        "plt.plot(freq[0,:], power[0,:])\n",
        "plt.title(\"Power spectrum of Spiking Neurons\")\n",
        "plt.ylabel(\"Power\")\n",
        "plt.xlabel(\"Frequency (Hz)\")\n",
        "plt.show()"
      ],
      "execution_count": 3,
      "outputs": [
        {
          "output_type": "display_data",
          "data": {
            "image/png": "[encoded data removed]",
            "text/plain": [
              "<Figure size 432x288 with 1 Axes>"
            ]
          },
          "metadata": {
            "tags": [],
            "needs_background": "light"
          }
        }
      ]
    }
  ]
}