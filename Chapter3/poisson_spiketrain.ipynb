{
  "nbformat": 4,
  "nbformat_minor": 0,
  "metadata": {
    "colab": {
      "name": "poisson_spiketrain.ipynb",
      "provenance": [],
      "collapsed_sections": []
    },
    "kernelspec": {
      "name": "python3",
      "display_name": "Python 3"
    },
    "language_info": {
      "name": "python"
    }
  },
  "cells": [
    {
      "cell_type": "markdown",
      "metadata": {
        "id": "R9Dxl8yHll_P"
      },
      "source": [
        "# Poisson SpikeTrain Model"
      ]
    },
    {
      "cell_type": "code",
      "metadata": {
        "id": "oIgH_tksC871"
      },
      "source": [
        "%matplotlib inline\n",
        "import matplotlib.pyplot as plt\n",
        "from numpy import random, std, mean\n",
        "from math import log, exp"
      ],
      "execution_count": 1,
      "outputs": []
    },
    {
      "cell_type": "code",
      "metadata": {
        "id": "HpfhpfAIDZMM"
      },
      "source": [
        "fr_mean = 15/100  # Mean firing rate\n",
        "lambda_val = 1/fr_mean  # Inverse firing rate\n",
        "ns = 1000 # number of spikes to be generated\n",
        "\n",
        "# generation of expo. distr. ISIs\n",
        "isi = []\n",
        "for i in range(ns):\n",
        "  isi.append(-lambda_val*log(random.rand()))\n",
        "is_ = 0 # Delete spikes that are within refactory period\n",
        "for i in range(ns):\n",
        "  if random.rand() > exp(-isi[i]**(2/32)):\n",
        "    is_ = is_ + 1\n",
        "    isi[is_] = isi[i]"
      ],
      "execution_count": 2,
      "outputs": []
    },
    {
      "cell_type": "code",
      "metadata": {
        "colab": {
          "base_uri": "https://localhost:8080/",
          "height": 284
        },
        "id": "eHDdEud8nl3P",
        "outputId": "d5b86619-f607-49ab-a5c4-44328b66cb03"
      },
      "source": [
        "# Ploting histogram of 50 bins\n",
        "plt.hist(isi, 50, density=True)\n",
        "# coefficient of variation\n",
        "cv = std(isi)/mean(isi)\n",
        "print(\"coefficient of variation :\", cv)"
      ],
      "execution_count": 3,
      "outputs": [
        {
          "output_type": "stream",
          "text": [
            "coefficient of variation : 1.0084087253168144\n"
          ],
          "name": "stdout"
        },
        {
          "output_type": "display_data",
          "data": {
            "image/png": "[encoded data removed]",
            "text/plain": [
              "<Figure size 432x288 with 1 Axes>"
            ]
          },
          "metadata": {
            "tags": [],
            "needs_background": "light"
          }
        }
      ]
    },
    {
      "cell_type": "markdown",
      "metadata": {
        "id": "lMFlHwutfO8r"
      },
      "source": [
        "# References\n",
        "1. Fundamentals of Computational Neuroscience, Thomas P. Trappenberg (Table 3.3, Program poisson spiketrain.m)\n",
        "2. [Matplotlib docs Histograms](https://matplotlib.org/stable/gallery/statistics/hist.html)"
      ]
    },
    {
      "cell_type": "code",
      "metadata": {
        "id": "qvd01lc_l4Qr"
      },
      "source": [
        ""
      ],
      "execution_count": 3,
      "outputs": []
    }
  ]
}