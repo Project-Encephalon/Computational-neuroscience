{
  "nbformat": 4,
  "nbformat_minor": 0,
  "metadata": {
    "colab": {
      "name": "poisson_spiketrain.ipynb",
      "provenance": []
    },
    "kernelspec": {
      "name": "python3",
      "display_name": "Python 3"
    },
    "language_info": {
      "name": "python"
    }
  },
  "cells": [
    {
      "cell_type": "code",
      "metadata": {
        "id": "oIgH_tksC871"
      },
      "source": [
        "%matplotlib inline\n",
        "import matplotlib.pyplot as plt\n",
        "from numpy import random, std, mean\n",
        "from math import log, exp"
      ],
      "execution_count": 1,
      "outputs": []
    },
    {
      "cell_type": "code",
      "metadata": {
        "colab": {
          "base_uri": "https://localhost:8080/",
          "height": 284
        },
        "id": "HpfhpfAIDZMM",
        "outputId": "5cb16dc4-ef9f-41de-9a88-2ef377346f17"
      },
      "source": [
        "fr_mean = 15/100  # Mean firing rate\n",
        "lambda_val = 1/fr_mean  # Inverse firing rate\n",
        "ns = 1000 # number of spikes to be generated\n",
        "\n",
        "# generation of expo. distr. ISIs\n",
        "isi = []\n",
        "for i in range(ns):\n",
        "  isi.append(-lambda_val*log(random.rand()))\n",
        "is_ = 0 # Delete spikes that are witing refactory period\n",
        "for i in range(ns):\n",
        "  if random.rand() > exp(-isi[i]**(2/32)):\n",
        "    is_ = is_ + 1\n",
        "    isi[is_] = isi[i]\n",
        "\n",
        "# Ploting histogram and caclulating cv\n",
        "cv = std(isi)/mean(isi)\n",
        "plt.hist(isi, 50, density=True)\n",
        "print(\"coefficient of variation :\", cv)"
      ],
      "execution_count": 2,
      "outputs": [
        {
          "output_type": "stream",
          "text": [
            "coefficient of variation : 0.9056459584157298\n"
          ],
          "name": "stdout"
        },
        {
          "output_type": "display_data",
          "data": {
            "image/png": "[encoded data removed]",
            "text/plain": [
              "<Figure size 432x288 with 1 Axes>"
            ]
          },
          "metadata": {
            "tags": [],
            "needs_background": "light"
          }
        }
      ]
    }
  ]
}